{
 "cells": [
  {
   "cell_type": "markdown",
   "id": "amended-starter",
   "metadata": {},
   "source": [
    "# Boston Housing Dataset Regression"
   ]
  },
  {
   "cell_type": "markdown",
   "id": "incorporate-globe",
   "metadata": {},
   "source": [
    "## Contents\n",
    "- Supervised Learning \n",
    "- Unsupervised Learning \n",
    "- Semi-supervised Learning\n",
    "\n",
    "\n",
    "### Importing basic libraries"
   ]
  },
  {
   "cell_type": "code",
   "execution_count": 3,
   "id": "indian-clearing",
   "metadata": {
    "ExecuteTime": {
     "end_time": "2021-03-10T13:21:52.585601Z",
     "start_time": "2021-03-10T13:21:42.790669Z"
    }
   },
   "outputs": [],
   "source": [
    "import pandas as pd\n",
    "import numpy as np\n",
    "from sklearn.tree import DecisionTreeClassifier\n",
    "from sklearn.svm import SVC, SVR\n",
    "from sklearn.linear_model import LinearRegression\n",
    "from matplotlib import pyplot as plt\n",
    "%matplotlib inline\n",
    "\n",
    "import seaborn as sns\n",
    "from sklearn import feature_selection\n",
    "from sklearn.feature_selection import SelectKBest\n",
    "%config Completer.use_jedi = False"
   ]
  },
  {
   "cell_type": "code",
   "execution_count": 4,
   "id": "divine-oakland",
   "metadata": {
    "ExecuteTime": {
     "end_time": "2021-03-10T13:21:53.358668Z",
     "start_time": "2021-03-10T13:21:52.588606Z"
    }
   },
   "outputs": [
    {
     "data": {
      "text/html": [
       "<div>\n",
       "<style scoped>\n",
       "    .dataframe tbody tr th:only-of-type {\n",
       "        vertical-align: middle;\n",
       "    }\n",
       "\n",
       "    .dataframe tbody tr th {\n",
       "        vertical-align: top;\n",
       "    }\n",
       "\n",
       "    .dataframe thead th {\n",
       "        text-align: right;\n",
       "    }\n",
       "</style>\n",
       "<table border=\"1\" class=\"dataframe\">\n",
       "  <thead>\n",
       "    <tr style=\"text-align: right;\">\n",
       "      <th></th>\n",
       "      <th>CRIM</th>\n",
       "      <th>ZN</th>\n",
       "      <th>INDUS</th>\n",
       "      <th>CHAS</th>\n",
       "      <th>NOX</th>\n",
       "      <th>RM</th>\n",
       "      <th>AGE</th>\n",
       "      <th>DIS</th>\n",
       "      <th>RAD</th>\n",
       "      <th>TAX</th>\n",
       "      <th>PTRATIO</th>\n",
       "      <th>B</th>\n",
       "      <th>LSTAT</th>\n",
       "    </tr>\n",
       "  </thead>\n",
       "  <tbody>\n",
       "    <tr>\n",
       "      <th>0</th>\n",
       "      <td>0.00632</td>\n",
       "      <td>18.0</td>\n",
       "      <td>2.31</td>\n",
       "      <td>0.0</td>\n",
       "      <td>0.538</td>\n",
       "      <td>6.575</td>\n",
       "      <td>65.2</td>\n",
       "      <td>4.0900</td>\n",
       "      <td>1.0</td>\n",
       "      <td>296.0</td>\n",
       "      <td>15.3</td>\n",
       "      <td>396.90</td>\n",
       "      <td>4.98</td>\n",
       "    </tr>\n",
       "    <tr>\n",
       "      <th>1</th>\n",
       "      <td>0.02731</td>\n",
       "      <td>0.0</td>\n",
       "      <td>7.07</td>\n",
       "      <td>0.0</td>\n",
       "      <td>0.469</td>\n",
       "      <td>6.421</td>\n",
       "      <td>78.9</td>\n",
       "      <td>4.9671</td>\n",
       "      <td>2.0</td>\n",
       "      <td>242.0</td>\n",
       "      <td>17.8</td>\n",
       "      <td>396.90</td>\n",
       "      <td>9.14</td>\n",
       "    </tr>\n",
       "    <tr>\n",
       "      <th>2</th>\n",
       "      <td>0.02729</td>\n",
       "      <td>0.0</td>\n",
       "      <td>7.07</td>\n",
       "      <td>0.0</td>\n",
       "      <td>0.469</td>\n",
       "      <td>7.185</td>\n",
       "      <td>61.1</td>\n",
       "      <td>4.9671</td>\n",
       "      <td>2.0</td>\n",
       "      <td>242.0</td>\n",
       "      <td>17.8</td>\n",
       "      <td>392.83</td>\n",
       "      <td>4.03</td>\n",
       "    </tr>\n",
       "    <tr>\n",
       "      <th>3</th>\n",
       "      <td>0.03237</td>\n",
       "      <td>0.0</td>\n",
       "      <td>2.18</td>\n",
       "      <td>0.0</td>\n",
       "      <td>0.458</td>\n",
       "      <td>6.998</td>\n",
       "      <td>45.8</td>\n",
       "      <td>6.0622</td>\n",
       "      <td>3.0</td>\n",
       "      <td>222.0</td>\n",
       "      <td>18.7</td>\n",
       "      <td>394.63</td>\n",
       "      <td>2.94</td>\n",
       "    </tr>\n",
       "    <tr>\n",
       "      <th>4</th>\n",
       "      <td>0.06905</td>\n",
       "      <td>0.0</td>\n",
       "      <td>2.18</td>\n",
       "      <td>0.0</td>\n",
       "      <td>0.458</td>\n",
       "      <td>7.147</td>\n",
       "      <td>54.2</td>\n",
       "      <td>6.0622</td>\n",
       "      <td>3.0</td>\n",
       "      <td>222.0</td>\n",
       "      <td>18.7</td>\n",
       "      <td>396.90</td>\n",
       "      <td>5.33</td>\n",
       "    </tr>\n",
       "  </tbody>\n",
       "</table>\n",
       "</div>"
      ],
      "text/plain": [
       "      CRIM    ZN  INDUS  CHAS    NOX     RM   AGE     DIS  RAD    TAX  \\\n",
       "0  0.00632  18.0   2.31   0.0  0.538  6.575  65.2  4.0900  1.0  296.0   \n",
       "1  0.02731   0.0   7.07   0.0  0.469  6.421  78.9  4.9671  2.0  242.0   \n",
       "2  0.02729   0.0   7.07   0.0  0.469  7.185  61.1  4.9671  2.0  242.0   \n",
       "3  0.03237   0.0   2.18   0.0  0.458  6.998  45.8  6.0622  3.0  222.0   \n",
       "4  0.06905   0.0   2.18   0.0  0.458  7.147  54.2  6.0622  3.0  222.0   \n",
       "\n",
       "   PTRATIO       B  LSTAT  \n",
       "0     15.3  396.90   4.98  \n",
       "1     17.8  396.90   9.14  \n",
       "2     17.8  392.83   4.03  \n",
       "3     18.7  394.63   2.94  \n",
       "4     18.7  396.90   5.33  "
      ]
     },
     "execution_count": 4,
     "metadata": {},
     "output_type": "execute_result"
    }
   ],
   "source": [
    "from sklearn.datasets import load_boston\n",
    "data = load_boston()\n",
    "df = pd.DataFrame(data.data, columns=data.feature_names)\n",
    "df.head()"
   ]
  },
  {
   "cell_type": "code",
   "execution_count": 5,
   "id": "equipped-forth",
   "metadata": {
    "ExecuteTime": {
     "end_time": "2021-03-10T13:21:53.374669Z",
     "start_time": "2021-03-10T13:21:53.363680Z"
    },
    "scrolled": true
   },
   "outputs": [
    {
     "name": "stdout",
     "output_type": "stream",
     "text": [
      ".. _boston_dataset:\n",
      "\n",
      "Boston house prices dataset\n",
      "---------------------------\n",
      "\n",
      "**Data Set Characteristics:**  \n",
      "\n",
      "    :Number of Instances: 506 \n",
      "\n",
      "    :Number of Attributes: 13 numeric/categorical predictive. Median Value (attribute 14) is usually the target.\n",
      "\n",
      "    :Attribute Information (in order):\n",
      "        - CRIM     per capita crime rate by town\n",
      "        - ZN       proportion of residential land zoned for lots over 25,000 sq.ft.\n",
      "        - INDUS    proportion of non-retail business acres per town\n",
      "        - CHAS     Charles River dummy variable (= 1 if tract bounds river; 0 otherwise)\n",
      "        - NOX      nitric oxides concentration (parts per 10 million)\n",
      "        - RM       average number of rooms per dwelling\n",
      "        - AGE      proportion of owner-occupied units built prior to 1940\n",
      "        - DIS      weighted distances to five Boston employment centres\n",
      "        - RAD      index of accessibility to radial highways\n",
      "        - TAX      full-value property-tax rate per $10,000\n",
      "        - PTRATIO  pupil-teacher ratio by town\n",
      "        - B        1000(Bk - 0.63)^2 where Bk is the proportion of blacks by town\n",
      "        - LSTAT    % lower status of the population\n",
      "        - MEDV     Median value of owner-occupied homes in $1000's\n",
      "\n",
      "    :Missing Attribute Values: None\n",
      "\n",
      "    :Creator: Harrison, D. and Rubinfeld, D.L.\n",
      "\n",
      "This is a copy of UCI ML housing dataset.\n",
      "https://archive.ics.uci.edu/ml/machine-learning-databases/housing/\n",
      "\n",
      "\n",
      "This dataset was taken from the StatLib library which is maintained at Carnegie Mellon University.\n",
      "\n",
      "The Boston house-price data of Harrison, D. and Rubinfeld, D.L. 'Hedonic\n",
      "prices and the demand for clean air', J. Environ. Economics & Management,\n",
      "vol.5, 81-102, 1978.   Used in Belsley, Kuh & Welsch, 'Regression diagnostics\n",
      "...', Wiley, 1980.   N.B. Various transformations are used in the table on\n",
      "pages 244-261 of the latter.\n",
      "\n",
      "The Boston house-price data has been used in many machine learning papers that address regression\n",
      "problems.   \n",
      "     \n",
      ".. topic:: References\n",
      "\n",
      "   - Belsley, Kuh & Welsch, 'Regression diagnostics: Identifying Influential Data and Sources of Collinearity', Wiley, 1980. 244-261.\n",
      "   - Quinlan,R. (1993). Combining Instance-Based and Model-Based Learning. In Proceedings on the Tenth International Conference of Machine Learning, 236-243, University of Massachusetts, Amherst. Morgan Kaufmann.\n",
      "\n"
     ]
    }
   ],
   "source": [
    "print(data.DESCR)"
   ]
  },
  {
   "cell_type": "markdown",
   "id": "welsh-timothy",
   "metadata": {},
   "source": [
    "# Supervised Learning"
   ]
  },
  {
   "cell_type": "markdown",
   "id": "pursuant-intervention",
   "metadata": {},
   "source": [
    "## Assumption of Linear Regression\n",
    "\n",
    "- http://r-statistics.co/Assumptions-of-Linear-Regression.html"
   ]
  },
  {
   "cell_type": "markdown",
   "id": "relevant-applicant",
   "metadata": {},
   "source": [
    "#### Prediction function"
   ]
  },
  {
   "cell_type": "code",
   "execution_count": 6,
   "id": "broken-distinction",
   "metadata": {
    "ExecuteTime": {
     "end_time": "2021-03-10T13:21:53.597667Z",
     "start_time": "2021-03-10T13:21:53.378667Z"
    }
   },
   "outputs": [
    {
     "name": "stdout",
     "output_type": "stream",
     "text": [
      "score: 0.7406426641094095\n"
     ]
    }
   ],
   "source": [
    "model = LinearRegression()\n",
    "model.fit(data.data, data.target)\n",
    "print('score:', model.score(data.data,data.target))"
   ]
  },
  {
   "cell_type": "markdown",
   "id": "considered-channel",
   "metadata": {},
   "source": [
    "#### Function to find a residual"
   ]
  },
  {
   "cell_type": "code",
   "execution_count": 7,
   "id": "australian-virtue",
   "metadata": {
    "ExecuteTime": {
     "end_time": "2021-03-10T13:21:53.723676Z",
     "start_time": "2021-03-10T13:21:53.600669Z"
    }
   },
   "outputs": [],
   "source": [
    "def residual(model, features, label):\n",
    "    predicted = model.predict(features)\n",
    "    df_result = pd.DataFrame({'Actual':label,'predicted':predicted})\n",
    "    df_result['residual']=(df_result['Actual'])-(df_result['predicted'])\n",
    "    return df_result"
   ]
  },
  {
   "cell_type": "code",
   "execution_count": 8,
   "id": "eligible-auction",
   "metadata": {
    "ExecuteTime": {
     "end_time": "2021-03-10T13:21:53.883673Z",
     "start_time": "2021-03-10T13:21:53.726668Z"
    }
   },
   "outputs": [],
   "source": [
    "df_result=residual(model,data.data, data.target)"
   ]
  },
  {
   "cell_type": "markdown",
   "id": "suburban-anderson",
   "metadata": {},
   "source": [
    "### Check Linearity"
   ]
  },
  {
   "cell_type": "code",
   "execution_count": 9,
   "id": "revised-elder",
   "metadata": {
    "ExecuteTime": {
     "end_time": "2021-03-10T13:21:54.689666Z",
     "start_time": "2021-03-10T13:21:53.886669Z"
    }
   },
   "outputs": [
    {
     "data": {
      "image/png": "[encoded data removed]",
      "text/plain": [
       "<Figure size 360x360 with 1 Axes>"
      ]
     },
     "metadata": {
      "needs_background": "light"
     },
     "output_type": "display_data"
    }
   ],
   "source": [
    "sns.lmplot(x='Actual', y='predicted', data=df_result, fit_reg=False)\n",
    "cord=np.arange(df_result.min().min(),df_result.max().max())\n",
    "plt.plot(cord,cord,\"g--\",linewidth=3)\n",
    "plt.title(\"Actual Vs Predicted\")\n",
    "plt.show()"
   ]
  },
  {
   "cell_type": "markdown",
   "id": "mediterranean-contract",
   "metadata": {},
   "source": [
    "- Above plot is the scatter plot of the residuals\n",
    "- Not most of the points lies around the diagonal line, although majority of them do lie around the diagonal line"
   ]
  },
  {
   "cell_type": "markdown",
   "id": "contained-registration",
   "metadata": {},
   "source": [
    "### check Normality (Anderson Darling test)"
   ]
  },
  {
   "cell_type": "code",
   "execution_count": 10,
   "id": "alien-retention",
   "metadata": {
    "ExecuteTime": {
     "end_time": "2021-03-10T13:21:55.651677Z",
     "start_time": "2021-03-10T13:21:54.695669Z"
    }
   },
   "outputs": [],
   "source": [
    "from statsmodels.stats.diagnostic import normal_ad"
   ]
  },
  {
   "cell_type": "code",
   "execution_count": 11,
   "id": "aging-nature",
   "metadata": {
    "ExecuteTime": {
     "end_time": "2021-03-10T13:21:56.381671Z",
     "start_time": "2021-03-10T13:21:55.656672Z"
    }
   },
   "outputs": [
    {
     "name": "stdout",
     "output_type": "stream",
     "text": [
      "p_value: 2.1621834631733667e-25\n",
      "residual are not normally dist\n"
     ]
    },
    {
     "name": "stderr",
     "output_type": "stream",
     "text": [
      "C:\\Users\\swos\\AppData\\Roaming\\Python\\Python37\\site-packages\\matplotlib\\cbook\\__init__.py:1377: FutureWarning: Support for multi-dimensional indexing (e.g. `obj[:, None]`) is deprecated and will be removed in a future version.  Convert to a numpy array before indexing instead.\n",
      "  x[:, None]\n",
      "C:\\Users\\swos\\AppData\\Roaming\\Python\\Python37\\site-packages\\matplotlib\\axes\\_base.py:237: FutureWarning: Support for multi-dimensional indexing (e.g. `obj[:, None]`) is deprecated and will be removed in a future version.  Convert to a numpy array before indexing instead.\n",
      "  x = x[:, np.newaxis]\n",
      "C:\\Users\\swos\\AppData\\Roaming\\Python\\Python37\\site-packages\\matplotlib\\axes\\_base.py:239: FutureWarning: Support for multi-dimensional indexing (e.g. `obj[:, None]`) is deprecated and will be removed in a future version.  Convert to a numpy array before indexing instead.\n",
      "  y = y[:, np.newaxis]\n"
     ]
    },
    {
     "data": {
      "image/png": "[encoded data removed]",
      "text/plain": [
       "<Figure size 432x288 with 1 Axes>"
      ]
     },
     "metadata": {
      "needs_background": "light"
     },
     "output_type": "display_data"
    }
   ],
   "source": [
    "p_value=normal_ad(df_result['residual'])[1]\n",
    "print('p_value:',p_value)\n",
    "if (p_value<0.05) :\n",
    "                                         \n",
    "    print(\"residual are not normally dist\")\n",
    "else:\n",
    "    print(\"normally dist\")\n",
    "sns.histplot(df_result[\"residual\"],kde=True)\n",
    "plt.show()"
   ]
  },
  {
   "cell_type": "markdown",
   "id": "joint-archives",
   "metadata": {},
   "source": [
    "- Data is not normal distribution, it can be seen from the test that has higher score.\n",
    "- The reasons could be due to outliers or most probably in our case due to different measurements"
   ]
  },
  {
   "cell_type": "markdown",
   "id": "natural-multiple",
   "metadata": {},
   "source": [
    "### Checking multi collinearity test"
   ]
  },
  {
   "cell_type": "code",
   "execution_count": 12,
   "id": "floral-settlement",
   "metadata": {
    "ExecuteTime": {
     "end_time": "2021-03-10T13:21:56.509730Z",
     "start_time": "2021-03-10T13:21:56.384668Z"
    }
   },
   "outputs": [],
   "source": [
    "from statsmodels.stats.outliers_influence import variance_inflation_factor"
   ]
  },
  {
   "cell_type": "code",
   "execution_count": 13,
   "id": "supposed-angle",
   "metadata": {
    "ExecuteTime": {
     "end_time": "2021-03-10T13:21:58.717796Z",
     "start_time": "2021-03-10T13:21:56.512720Z"
    }
   },
   "outputs": [
    {
     "data": {
      "text/plain": [
       "<matplotlib.axes._subplots.AxesSubplot at 0x248d30f7d68>"
      ]
     },
     "execution_count": 13,
     "metadata": {},
     "output_type": "execute_result"
    },
    {
     "data": {
      "image/png": "[encoded data removed]",
      "text/plain": [
       "<Figure size 720x576 with 2 Axes>"
      ]
     },
     "metadata": {
      "needs_background": "light"
     },
     "output_type": "display_data"
    }
   ],
   "source": [
    "plt.figure(figsize=(10,8))\n",
    "sns.heatmap(df.corr(),annot=True)"
   ]
  },
  {
   "cell_type": "markdown",
   "id": "brilliant-string",
   "metadata": {},
   "source": [
    "- From the correlation here we can see there are few variables that are highly correlated with each other. So, they must be removed "
   ]
  },
  {
   "cell_type": "markdown",
   "id": "developmental-framework",
   "metadata": {},
   "source": [
    "#### Using VIF\n",
    "\n",
    "- VIF is a metric computed for every X variable that goes into a linear model. If the VIF of a variable is high, it means the information in that variable is already explained by other X variables present in the given model, which means, more redundant is that variable. So, lower the VIF (<2) the better. VIF for a X var is calculated as:\n",
    "\n",
    "\n",
    "VIF=1/(1−Rsq)\n",
    "\n",
    "\n",
    "where, Rsq is the Rsq term for the model with given X as response against all other Xs that went into the model as predictors.\n",
    "- Practically, if two of the X′s have high correlation, they will likely have high VIFs. Generally, VIF for an X variable should be less than 4 in order to be accepted as not causing multi-collinearity. The cutoff is kept as low as 2, if you want to be strict about your X variables."
   ]
  },
  {
   "cell_type": "code",
   "execution_count": 14,
   "id": "hydraulic-pound",
   "metadata": {
    "ExecuteTime": {
     "end_time": "2021-03-10T13:21:58.765796Z",
     "start_time": "2021-03-10T13:21:58.720800Z"
    }
   },
   "outputs": [
    {
     "name": "stdout",
     "output_type": "stream",
     "text": [
      "feature CRIM: vif : 2.1003728199615224\n",
      "feature ZN: vif : 2.8440132669462637\n",
      "feature INDUS: vif : 14.485757706539331\n",
      "feature CHAS: vif : 1.1529518589418777\n",
      "feature NOX: vif : 73.89494652814788\n",
      "feature RM: vif : 77.94828304638538\n",
      "feature AGE: vif : 21.38685048994309\n",
      "feature DIS: vif : 14.6996523837492\n",
      "feature RAD: vif : 15.167724857920897\n",
      "feature TAX: vif : 61.227274009649456\n",
      "feature PTRATIO: vif : 85.02954731061801\n",
      "feature B: vif : 20.104942636229136\n",
      "feature LSTAT: vif : 11.102024772203539\n",
      "10 case of possible multicollinearity\n",
      "0 case of multicollinearity\n"
     ]
    }
   ],
   "source": [
    "features = data.data\n",
    "feature_name = data.feature_names\n",
    "\n",
    "VIF=[variance_inflation_factor(features,i) for i in range(features.shape[1])]\n",
    "for i,v in enumerate(VIF):\n",
    "    print(f\"feature {feature_name[i]}: vif : {v}\")\n",
    "possible_multicollinearity=sum(map(lambda x: x>10,VIF))\n",
    "Multicollinearity=sum([1 for vif in VIF if vif>100])\n",
    "print(f\"{possible_multicollinearity} case of possible multicollinearity\")\n",
    "print(f\"{Multicollinearity} case of multicollinearity\")"
   ]
  },
  {
   "cell_type": "markdown",
   "id": "front-washington",
   "metadata": {},
   "source": [
    "- From the Vif score with the threshold of 10, we can see that most of the features are correlated to each other, so most probably, we dont need most of the features to fit a model"
   ]
  },
  {
   "cell_type": "markdown",
   "id": "peaceful-poland",
   "metadata": {},
   "source": [
    "### Homosedascity\n",
    "- Violation of the homoscedasticity assumption results in heteroscedasticity when values of the dependent variable seem to increase or decrease as a function of the independent variables. Typically, homoscedasticity violations occur when one or more of the variables under investigation are not normally distributed\n",
    "-To evaluate homoscedasticity using calculated variances, some statisticians use this general rule of thumb: If the ratio of the largest sample variance to the smallest sample variance does not exceed 1.5, the groups satisfy the requirement of homoscedasticity\n",
    "-refers to a condition in which the variance of the residual, or error term, in a regression model is constant. That is, the error term does not vary much as the value of the predictor variable changes"
   ]
  },
  {
   "cell_type": "code",
   "execution_count": 15,
   "id": "concerned-pakistan",
   "metadata": {
    "ExecuteTime": {
     "end_time": "2021-03-10T13:21:59.229794Z",
     "start_time": "2021-03-10T13:21:58.768796Z"
    }
   },
   "outputs": [
    {
     "data": {
      "text/plain": [
       "<matplotlib.axes._subplots.AxesSubplot at 0x248d35384a8>"
      ]
     },
     "execution_count": 15,
     "metadata": {},
     "output_type": "execute_result"
    },
    {
     "data": {
      "image/png": "[encoded data removed]",
      "text/plain": [
       "<Figure size 432x288 with 1 Axes>"
      ]
     },
     "metadata": {
      "needs_background": "light"
     },
     "output_type": "display_data"
    }
   ],
   "source": [
    "sns.residplot(x=df_result.index, y=df_result.residual, line_kws={'lw':2,'color':'#4682b4'})"
   ]
  },
  {
   "cell_type": "markdown",
   "id": "flying-column",
   "metadata": {},
   "source": [
    "- The variance is not uniform so may be ridge and lasso will perform better for this dataset"
   ]
  },
  {
   "cell_type": "markdown",
   "id": "geographic-marina",
   "metadata": {},
   "source": [
    "### OLS"
   ]
  },
  {
   "cell_type": "code",
   "execution_count": 16,
   "id": "complete-current",
   "metadata": {
    "ExecuteTime": {
     "end_time": "2021-03-10T13:22:03.311797Z",
     "start_time": "2021-03-10T13:21:59.232796Z"
    }
   },
   "outputs": [],
   "source": [
    "import statsmodels.api as sm\n",
    "from statsmodels.formula.api import ols"
   ]
  },
  {
   "cell_type": "code",
   "execution_count": 17,
   "id": "consolidated-bunch",
   "metadata": {
    "ExecuteTime": {
     "end_time": "2021-03-10T13:22:03.327802Z",
     "start_time": "2021-03-10T13:22:03.314802Z"
    }
   },
   "outputs": [
    {
     "data": {
      "text/plain": [
       "(506,)"
      ]
     },
     "execution_count": 17,
     "metadata": {},
     "output_type": "execute_result"
    }
   ],
   "source": [
    "data.target.shape"
   ]
  },
  {
   "cell_type": "code",
   "execution_count": 18,
   "id": "directed-strand",
   "metadata": {
    "ExecuteTime": {
     "end_time": "2021-03-10T13:22:03.501799Z",
     "start_time": "2021-03-10T13:22:03.330806Z"
    }
   },
   "outputs": [],
   "source": [
    "X_boston = sm.add_constant(data.data)\n",
    "est = sm.OLS(data.target, data.data).fit()"
   ]
  },
  {
   "cell_type": "code",
   "execution_count": 19,
   "id": "bearing-australian",
   "metadata": {
    "ExecuteTime": {
     "end_time": "2021-03-10T13:22:03.657805Z",
     "start_time": "2021-03-10T13:22:03.504804Z"
    }
   },
   "outputs": [
    {
     "data": {
      "text/html": [
       "<table class=\"simpletable\">\n",
       "<caption>OLS Regression Results</caption>\n",
       "<tr>\n",
       "  <th>Dep. Variable:</th>            <td>y</td>        <th>  R-squared (uncentered):</th>      <td>   0.959</td>\n",
       "</tr>\n",
       "<tr>\n",
       "  <th>Model:</th>                   <td>OLS</td>       <th>  Adj. R-squared (uncentered):</th> <td>   0.958</td>\n",
       "</tr>\n",
       "<tr>\n",
       "  <th>Method:</th>             <td>Least Squares</td>  <th>  F-statistic:       </th>          <td>   891.3</td>\n",
       "</tr>\n",
       "<tr>\n",
       "  <th>Date:</th>             <td>Wed, 10 Mar 2021</td> <th>  Prob (F-statistic):</th>           <td>  0.00</td> \n",
       "</tr>\n",
       "<tr>\n",
       "  <th>Time:</th>                 <td>15:22:03</td>     <th>  Log-Likelihood:    </th>          <td> -1523.8</td>\n",
       "</tr>\n",
       "<tr>\n",
       "  <th>No. Observations:</th>      <td>   506</td>      <th>  AIC:               </th>          <td>   3074.</td>\n",
       "</tr>\n",
       "<tr>\n",
       "  <th>Df Residuals:</th>          <td>   493</td>      <th>  BIC:               </th>          <td>   3128.</td>\n",
       "</tr>\n",
       "<tr>\n",
       "  <th>Df Model:</th>              <td>    13</td>      <th>                     </th>              <td> </td>   \n",
       "</tr>\n",
       "<tr>\n",
       "  <th>Covariance Type:</th>      <td>nonrobust</td>    <th>                     </th>              <td> </td>   \n",
       "</tr>\n",
       "</table>\n",
       "<table class=\"simpletable\">\n",
       "<tr>\n",
       "   <td></td>      <th>coef</th>     <th>std err</th>      <th>t</th>      <th>P>|t|</th>  <th>[0.025</th>    <th>0.975]</th>  \n",
       "</tr>\n",
       "<tr>\n",
       "  <th>x1</th>  <td>   -0.0929</td> <td>    0.034</td> <td>   -2.699</td> <td> 0.007</td> <td>   -0.161</td> <td>   -0.025</td>\n",
       "</tr>\n",
       "<tr>\n",
       "  <th>x2</th>  <td>    0.0487</td> <td>    0.014</td> <td>    3.382</td> <td> 0.001</td> <td>    0.020</td> <td>    0.077</td>\n",
       "</tr>\n",
       "<tr>\n",
       "  <th>x3</th>  <td>   -0.0041</td> <td>    0.064</td> <td>   -0.063</td> <td> 0.950</td> <td>   -0.131</td> <td>    0.123</td>\n",
       "</tr>\n",
       "<tr>\n",
       "  <th>x4</th>  <td>    2.8540</td> <td>    0.904</td> <td>    3.157</td> <td> 0.002</td> <td>    1.078</td> <td>    4.630</td>\n",
       "</tr>\n",
       "<tr>\n",
       "  <th>x5</th>  <td>   -2.8684</td> <td>    3.359</td> <td>   -0.854</td> <td> 0.394</td> <td>   -9.468</td> <td>    3.731</td>\n",
       "</tr>\n",
       "<tr>\n",
       "  <th>x6</th>  <td>    5.9281</td> <td>    0.309</td> <td>   19.178</td> <td> 0.000</td> <td>    5.321</td> <td>    6.535</td>\n",
       "</tr>\n",
       "<tr>\n",
       "  <th>x7</th>  <td>   -0.0073</td> <td>    0.014</td> <td>   -0.526</td> <td> 0.599</td> <td>   -0.034</td> <td>    0.020</td>\n",
       "</tr>\n",
       "<tr>\n",
       "  <th>x8</th>  <td>   -0.9685</td> <td>    0.196</td> <td>   -4.951</td> <td> 0.000</td> <td>   -1.353</td> <td>   -0.584</td>\n",
       "</tr>\n",
       "<tr>\n",
       "  <th>x9</th>  <td>    0.1712</td> <td>    0.067</td> <td>    2.564</td> <td> 0.011</td> <td>    0.040</td> <td>    0.302</td>\n",
       "</tr>\n",
       "<tr>\n",
       "  <th>x10</th> <td>   -0.0094</td> <td>    0.004</td> <td>   -2.395</td> <td> 0.017</td> <td>   -0.017</td> <td>   -0.002</td>\n",
       "</tr>\n",
       "<tr>\n",
       "  <th>x11</th> <td>   -0.3922</td> <td>    0.110</td> <td>   -3.570</td> <td> 0.000</td> <td>   -0.608</td> <td>   -0.176</td>\n",
       "</tr>\n",
       "<tr>\n",
       "  <th>x12</th> <td>    0.0149</td> <td>    0.003</td> <td>    5.528</td> <td> 0.000</td> <td>    0.010</td> <td>    0.020</td>\n",
       "</tr>\n",
       "<tr>\n",
       "  <th>x13</th> <td>   -0.4163</td> <td>    0.051</td> <td>   -8.197</td> <td> 0.000</td> <td>   -0.516</td> <td>   -0.317</td>\n",
       "</tr>\n",
       "</table>\n",
       "<table class=\"simpletable\">\n",
       "<tr>\n",
       "  <th>Omnibus:</th>       <td>204.082</td> <th>  Durbin-Watson:     </th> <td>   0.999</td> \n",
       "</tr>\n",
       "<tr>\n",
       "  <th>Prob(Omnibus):</th> <td> 0.000</td>  <th>  Jarque-Bera (JB):  </th> <td>1374.225</td> \n",
       "</tr>\n",
       "<tr>\n",
       "  <th>Skew:</th>          <td> 1.609</td>  <th>  Prob(JB):          </th> <td>3.90e-299</td>\n",
       "</tr>\n",
       "<tr>\n",
       "  <th>Kurtosis:</th>      <td>10.404</td>  <th>  Cond. No.          </th> <td>8.50e+03</td> \n",
       "</tr>\n",
       "</table><br/><br/>Notes:<br/>[1] R² is computed without centering (uncentered) since the model does not contain a constant.<br/>[2] Standard Errors assume that the covariance matrix of the errors is correctly specified.<br/>[3] The condition number is large, 8.5e+03. This might indicate that there are<br/>strong multicollinearity or other numerical problems."
      ],
      "text/plain": [
       "<class 'statsmodels.iolib.summary.Summary'>\n",
       "\"\"\"\n",
       "                                 OLS Regression Results                                \n",
       "=======================================================================================\n",
       "Dep. Variable:                      y   R-squared (uncentered):                   0.959\n",
       "Model:                            OLS   Adj. R-squared (uncentered):              0.958\n",
       "Method:                 Least Squares   F-statistic:                              891.3\n",
       "Date:                Wed, 10 Mar 2021   Prob (F-statistic):                        0.00\n",
       "Time:                        15:22:03   Log-Likelihood:                         -1523.8\n",
       "No. Observations:                 506   AIC:                                      3074.\n",
       "Df Residuals:                     493   BIC:                                      3128.\n",
       "Df Model:                          13                                                  \n",
       "Covariance Type:            nonrobust                                                  \n",
       "==============================================================================\n",
       "                 coef    std err          t      P>|t|      [0.025      0.975]\n",
       "------------------------------------------------------------------------------\n",
       "x1            -0.0929      0.034     -2.699      0.007      -0.161      -0.025\n",
       "x2             0.0487      0.014      3.382      0.001       0.020       0.077\n",
       "x3            -0.0041      0.064     -0.063      0.950      -0.131       0.123\n",
       "x4             2.8540      0.904      3.157      0.002       1.078       4.630\n",
       "x5            -2.8684      3.359     -0.854      0.394      -9.468       3.731\n",
       "x6             5.9281      0.309     19.178      0.000       5.321       6.535\n",
       "x7            -0.0073      0.014     -0.526      0.599      -0.034       0.020\n",
       "x8            -0.9685      0.196     -4.951      0.000      -1.353      -0.584\n",
       "x9             0.1712      0.067      2.564      0.011       0.040       0.302\n",
       "x10           -0.0094      0.004     -2.395      0.017      -0.017      -0.002\n",
       "x11           -0.3922      0.110     -3.570      0.000      -0.608      -0.176\n",
       "x12            0.0149      0.003      5.528      0.000       0.010       0.020\n",
       "x13           -0.4163      0.051     -8.197      0.000      -0.516      -0.317\n",
       "==============================================================================\n",
       "Omnibus:                      204.082   Durbin-Watson:                   0.999\n",
       "Prob(Omnibus):                  0.000   Jarque-Bera (JB):             1374.225\n",
       "Skew:                           1.609   Prob(JB):                    3.90e-299\n",
       "Kurtosis:                      10.404   Cond. No.                     8.50e+03\n",
       "==============================================================================\n",
       "\n",
       "Notes:\n",
       "[1] R² is computed without centering (uncentered) since the model does not contain a constant.\n",
       "[2] Standard Errors assume that the covariance matrix of the errors is correctly specified.\n",
       "[3] The condition number is large, 8.5e+03. This might indicate that there are\n",
       "strong multicollinearity or other numerical problems.\n",
       "\"\"\""
      ]
     },
     "execution_count": 19,
     "metadata": {},
     "output_type": "execute_result"
    }
   ],
   "source": [
    "est.summary()"
   ]
  },
  {
   "cell_type": "markdown",
   "id": "ongoing-consensus",
   "metadata": {},
   "source": [
    "#### OLS"
   ]
  },
  {
   "cell_type": "code",
   "execution_count": 20,
   "id": "broadband-gross",
   "metadata": {
    "ExecuteTime": {
     "end_time": "2021-03-10T13:22:03.813802Z",
     "start_time": "2021-03-10T13:22:03.660802Z"
    }
   },
   "outputs": [
    {
     "data": {
      "text/html": [
       "<div>\n",
       "<style scoped>\n",
       "    .dataframe tbody tr th:only-of-type {\n",
       "        vertical-align: middle;\n",
       "    }\n",
       "\n",
       "    .dataframe tbody tr th {\n",
       "        vertical-align: top;\n",
       "    }\n",
       "\n",
       "    .dataframe thead th {\n",
       "        text-align: right;\n",
       "    }\n",
       "</style>\n",
       "<table border=\"1\" class=\"dataframe\">\n",
       "  <thead>\n",
       "    <tr style=\"text-align: right;\">\n",
       "      <th></th>\n",
       "      <th>CRIM</th>\n",
       "      <th>ZN</th>\n",
       "      <th>INDUS</th>\n",
       "      <th>CHAS</th>\n",
       "      <th>NOX</th>\n",
       "      <th>RM</th>\n",
       "      <th>AGE</th>\n",
       "      <th>DIS</th>\n",
       "      <th>RAD</th>\n",
       "      <th>TAX</th>\n",
       "      <th>PTRATIO</th>\n",
       "      <th>B</th>\n",
       "      <th>LSTAT</th>\n",
       "      <th>Price</th>\n",
       "    </tr>\n",
       "  </thead>\n",
       "  <tbody>\n",
       "    <tr>\n",
       "      <th>0</th>\n",
       "      <td>0.00632</td>\n",
       "      <td>18.0</td>\n",
       "      <td>2.31</td>\n",
       "      <td>0.0</td>\n",
       "      <td>0.538</td>\n",
       "      <td>6.575</td>\n",
       "      <td>65.2</td>\n",
       "      <td>4.0900</td>\n",
       "      <td>1.0</td>\n",
       "      <td>296.0</td>\n",
       "      <td>15.3</td>\n",
       "      <td>396.90</td>\n",
       "      <td>4.98</td>\n",
       "      <td>24.0</td>\n",
       "    </tr>\n",
       "    <tr>\n",
       "      <th>1</th>\n",
       "      <td>0.02731</td>\n",
       "      <td>0.0</td>\n",
       "      <td>7.07</td>\n",
       "      <td>0.0</td>\n",
       "      <td>0.469</td>\n",
       "      <td>6.421</td>\n",
       "      <td>78.9</td>\n",
       "      <td>4.9671</td>\n",
       "      <td>2.0</td>\n",
       "      <td>242.0</td>\n",
       "      <td>17.8</td>\n",
       "      <td>396.90</td>\n",
       "      <td>9.14</td>\n",
       "      <td>21.6</td>\n",
       "    </tr>\n",
       "    <tr>\n",
       "      <th>2</th>\n",
       "      <td>0.02729</td>\n",
       "      <td>0.0</td>\n",
       "      <td>7.07</td>\n",
       "      <td>0.0</td>\n",
       "      <td>0.469</td>\n",
       "      <td>7.185</td>\n",
       "      <td>61.1</td>\n",
       "      <td>4.9671</td>\n",
       "      <td>2.0</td>\n",
       "      <td>242.0</td>\n",
       "      <td>17.8</td>\n",
       "      <td>392.83</td>\n",
       "      <td>4.03</td>\n",
       "      <td>34.7</td>\n",
       "    </tr>\n",
       "    <tr>\n",
       "      <th>3</th>\n",
       "      <td>0.03237</td>\n",
       "      <td>0.0</td>\n",
       "      <td>2.18</td>\n",
       "      <td>0.0</td>\n",
       "      <td>0.458</td>\n",
       "      <td>6.998</td>\n",
       "      <td>45.8</td>\n",
       "      <td>6.0622</td>\n",
       "      <td>3.0</td>\n",
       "      <td>222.0</td>\n",
       "      <td>18.7</td>\n",
       "      <td>394.63</td>\n",
       "      <td>2.94</td>\n",
       "      <td>33.4</td>\n",
       "    </tr>\n",
       "    <tr>\n",
       "      <th>4</th>\n",
       "      <td>0.06905</td>\n",
       "      <td>0.0</td>\n",
       "      <td>2.18</td>\n",
       "      <td>0.0</td>\n",
       "      <td>0.458</td>\n",
       "      <td>7.147</td>\n",
       "      <td>54.2</td>\n",
       "      <td>6.0622</td>\n",
       "      <td>3.0</td>\n",
       "      <td>222.0</td>\n",
       "      <td>18.7</td>\n",
       "      <td>396.90</td>\n",
       "      <td>5.33</td>\n",
       "      <td>36.2</td>\n",
       "    </tr>\n",
       "  </tbody>\n",
       "</table>\n",
       "</div>"
      ],
      "text/plain": [
       "      CRIM    ZN  INDUS  CHAS    NOX     RM   AGE     DIS  RAD    TAX  \\\n",
       "0  0.00632  18.0   2.31   0.0  0.538  6.575  65.2  4.0900  1.0  296.0   \n",
       "1  0.02731   0.0   7.07   0.0  0.469  6.421  78.9  4.9671  2.0  242.0   \n",
       "2  0.02729   0.0   7.07   0.0  0.469  7.185  61.1  4.9671  2.0  242.0   \n",
       "3  0.03237   0.0   2.18   0.0  0.458  6.998  45.8  6.0622  3.0  222.0   \n",
       "4  0.06905   0.0   2.18   0.0  0.458  7.147  54.2  6.0622  3.0  222.0   \n",
       "\n",
       "   PTRATIO       B  LSTAT  Price  \n",
       "0     15.3  396.90   4.98   24.0  \n",
       "1     17.8  396.90   9.14   21.6  \n",
       "2     17.8  392.83   4.03   34.7  \n",
       "3     18.7  394.63   2.94   33.4  \n",
       "4     18.7  396.90   5.33   36.2  "
      ]
     },
     "execution_count": 20,
     "metadata": {},
     "output_type": "execute_result"
    }
   ],
   "source": [
    "df['Price']=data.target\n",
    "df.head()"
   ]
  },
  {
   "cell_type": "code",
   "execution_count": 21,
   "id": "interpreted-roots",
   "metadata": {
    "ExecuteTime": {
     "end_time": "2021-03-10T13:22:04.097800Z",
     "start_time": "2021-03-10T13:22:03.816802Z"
    }
   },
   "outputs": [
    {
     "name": "stdout",
     "output_type": "stream",
     "text": [
      "                            OLS Regression Results                            \n",
      "==============================================================================\n",
      "Dep. Variable:                  Price   R-squared:                       0.741\n",
      "Model:                            OLS   Adj. R-squared:                  0.734\n",
      "Method:                 Least Squares   F-statistic:                     108.1\n",
      "Date:                Wed, 10 Mar 2021   Prob (F-statistic):          6.72e-135\n",
      "Time:                        15:22:04   Log-Likelihood:                -1498.8\n",
      "No. Observations:                 506   AIC:                             3026.\n",
      "Df Residuals:                     492   BIC:                             3085.\n",
      "Df Model:                          13                                         \n",
      "Covariance Type:            nonrobust                                         \n",
      "==============================================================================\n",
      "                 coef    std err          t      P>|t|      [0.025      0.975]\n",
      "------------------------------------------------------------------------------\n",
      "Intercept     36.4595      5.103      7.144      0.000      26.432      46.487\n",
      "CRIM          -0.1080      0.033     -3.287      0.001      -0.173      -0.043\n",
      "ZN             0.0464      0.014      3.382      0.001       0.019       0.073\n",
      "INDUS          0.0206      0.061      0.334      0.738      -0.100       0.141\n",
      "CHAS           2.6867      0.862      3.118      0.002       0.994       4.380\n",
      "NOX          -17.7666      3.820     -4.651      0.000     -25.272     -10.262\n",
      "RM             3.8099      0.418      9.116      0.000       2.989       4.631\n",
      "AGE            0.0007      0.013      0.052      0.958      -0.025       0.027\n",
      "DIS           -1.4756      0.199     -7.398      0.000      -1.867      -1.084\n",
      "RAD            0.3060      0.066      4.613      0.000       0.176       0.436\n",
      "TAX           -0.0123      0.004     -3.280      0.001      -0.020      -0.005\n",
      "PTRATIO       -0.9527      0.131     -7.283      0.000      -1.210      -0.696\n",
      "B              0.0093      0.003      3.467      0.001       0.004       0.015\n",
      "LSTAT         -0.5248      0.051    -10.347      0.000      -0.624      -0.425\n",
      "==============================================================================\n",
      "Omnibus:                      178.041   Durbin-Watson:                   1.078\n",
      "Prob(Omnibus):                  0.000   Jarque-Bera (JB):              783.126\n",
      "Skew:                           1.521   Prob(JB):                    8.84e-171\n",
      "Kurtosis:                       8.281   Cond. No.                     1.51e+04\n",
      "==============================================================================\n",
      "\n",
      "Notes:\n",
      "[1] Standard Errors assume that the covariance matrix of the errors is correctly specified.\n",
      "[2] The condition number is large, 1.51e+04. This might indicate that there are\n",
      "strong multicollinearity or other numerical problems.\n"
     ]
    }
   ],
   "source": [
    "m = ols('Price ~ CRIM+ ZN+ INDUS+CHAS +NOX +RM+AGE+DIS+RAD+TAX+PTRATIO+B+LSTAT',df).fit()\n",
    "print(m.summary())"
   ]
  },
  {
   "cell_type": "markdown",
   "id": "sunset-lindsay",
   "metadata": {
    "ExecuteTime": {
     "end_time": "2021-02-08T21:55:33.608202Z",
     "start_time": "2021-02-08T21:55:33.593203Z"
    }
   },
   "source": [
    "-From this table also we can see from the p values, how the target (price) is not affected by some features i.e. higher p (usually greater than 0.05) value has less effect on the target variable\n",
    "- From the table above it can be clearly seen that indus and age have very less effect according to their p values to the target"
   ]
  },
  {
   "cell_type": "code",
   "execution_count": null,
   "id": "commercial-poverty",
   "metadata": {},
   "outputs": [],
   "source": []
  },
  {
   "cell_type": "markdown",
   "id": "healthy-confusion",
   "metadata": {},
   "source": [
    "##  Feature Selection & Scaling\n",
    "\n",
    "- Since our data is not normally distributed and there might be some outlier in the distribution, we can either choose MinMAx scaler or Robust scaler\n",
    "- Since all the features are not important as seen from the OLS, we are using the selectKBEst to select 11 features from the mutual info regression function"
   ]
  },
  {
   "cell_type": "code",
   "execution_count": 22,
   "id": "willing-maryland",
   "metadata": {
    "ExecuteTime": {
     "end_time": "2021-03-10T13:22:04.815799Z",
     "start_time": "2021-03-10T13:22:04.100803Z"
    }
   },
   "outputs": [
    {
     "data": {
      "text/plain": [
       "array([0.34330862, 0.18896522, 0.46411323, 0.01866903, 0.46811786,\n",
       "       0.52989741, 0.31554986, 0.29975884, 0.22318724, 0.37112815,\n",
       "       0.44470971, 0.16880585, 0.66530092])"
      ]
     },
     "execution_count": 22,
     "metadata": {},
     "output_type": "execute_result"
    }
   ],
   "source": [
    "selector = feature_selection.SelectKBest(score_func=feature_selection.mutual_info_regression,\n",
    "                                        k=11)\n",
    "feat_selection = selector.fit_transform(data.data, data.target)\n",
    "relation_with_target = feature_selection.mutual_info_regression(data.data, data.target)\n",
    "feat_selection.shape \n",
    "relation_with_target# New shape of the selected data"
   ]
  },
  {
   "cell_type": "code",
   "execution_count": 23,
   "id": "attended-karma",
   "metadata": {
    "ExecuteTime": {
     "end_time": "2021-03-10T13:22:04.845802Z",
     "start_time": "2021-03-10T13:22:04.818803Z"
    }
   },
   "outputs": [
    {
     "data": {
      "text/plain": [
       "Index(['CRIM', 'ZN', 'INDUS', 'CHAS', 'NOX', 'AGE', 'DIS', 'RAD', 'TAX',\n",
       "       'PTRATIO', 'B'],\n",
       "      dtype='object')"
      ]
     },
     "execution_count": 23,
     "metadata": {},
     "output_type": "execute_result"
    }
   ],
   "source": [
    "col=df.iloc[:,np.argwhere(relation_with_target<0.5).flatten()].columns\n",
    "col"
   ]
  },
  {
   "cell_type": "markdown",
   "id": "national-hartford",
   "metadata": {
    "ExecuteTime": {
     "end_time": "2021-02-09T19:55:51.906839Z",
     "start_time": "2021-02-09T19:55:51.561803Z"
    }
   },
   "source": [
    "- Since different algorithms gives better results with different scaling methods (either minmax or robust), it is better to scale the data in the pipeline before fitting the model\n",
    "\n"
   ]
  },
  {
   "cell_type": "markdown",
   "id": "balanced-forest",
   "metadata": {},
   "source": [
    "## Linear Regression"
   ]
  },
  {
   "cell_type": "code",
   "execution_count": 24,
   "id": "productive-teens",
   "metadata": {
    "ExecuteTime": {
     "end_time": "2021-03-10T13:22:04.973805Z",
     "start_time": "2021-03-10T13:22:04.848804Z"
    }
   },
   "outputs": [],
   "source": [
    "from sklearn.linear_model import LinearRegression, Lasso, LassoCV, Ridge, RidgeCV\n",
    "from sklearn.model_selection import train_test_split, GridSearchCV, cross_val_score\n",
    "from sklearn.preprocessing import PolynomialFeatures, StandardScaler, MinMaxScaler\n",
    "from sklearn.pipeline import Pipeline\n",
    "from sklearn.metrics import mean_squared_error"
   ]
  },
  {
   "cell_type": "code",
   "execution_count": 25,
   "id": "regular-denver",
   "metadata": {
    "ExecuteTime": {
     "end_time": "2021-03-10T13:22:05.097803Z",
     "start_time": "2021-03-10T13:22:04.990807Z"
    }
   },
   "outputs": [],
   "source": [
    "X_train,X_test,y_train,y_test = train_test_split(feat_selection, data.target, random_state=42)"
   ]
  },
  {
   "cell_type": "code",
   "execution_count": 26,
   "id": "golden-processor",
   "metadata": {
    "ExecuteTime": {
     "end_time": "2021-03-10T13:22:05.285811Z",
     "start_time": "2021-03-10T13:22:05.104805Z"
    }
   },
   "outputs": [
    {
     "name": "stdout",
     "output_type": "stream",
     "text": [
      "Cross validation score 0.7019351845848144\n"
     ]
    }
   ],
   "source": [
    "pipe = Pipeline([\n",
    "    ('scaler',MinMaxScaler()),\n",
    "    ('Lr', LinearRegression())\n",
    "])\n",
    "print('Cross validation score',np.mean(cross_val_score(pipe,X_train,y_train, cv=10)))\n"
   ]
  },
  {
   "cell_type": "code",
   "execution_count": 27,
   "id": "chemical-lancaster",
   "metadata": {
    "ExecuteTime": {
     "end_time": "2021-03-10T13:22:05.395804Z",
     "start_time": "2021-03-10T13:22:05.288807Z"
    }
   },
   "outputs": [
    {
     "name": "stdout",
     "output_type": "stream",
     "text": [
      "Training score: 0.7294997432205005\n",
      "Testing score: 0.7048940509979134\n"
     ]
    }
   ],
   "source": [
    "\n",
    "pipe.fit(X_train,y_train)\n",
    "print(f'Training score: {pipe.score(X_train,y_train)}')\n",
    "print(f'Testing score: {pipe.score(X_test,y_test)}')"
   ]
  },
  {
   "cell_type": "code",
   "execution_count": null,
   "id": "aggregate-nebraska",
   "metadata": {},
   "outputs": [],
   "source": []
  },
  {
   "cell_type": "markdown",
   "id": "living-founder",
   "metadata": {},
   "source": [
    "#### Error"
   ]
  },
  {
   "cell_type": "code",
   "execution_count": 28,
   "id": "large-survey",
   "metadata": {
    "ExecuteTime": {
     "end_time": "2021-03-10T13:22:05.537800Z",
     "start_time": "2021-03-10T13:22:05.398805Z"
    }
   },
   "outputs": [],
   "source": [
    "from sklearn.metrics import mean_squared_error"
   ]
  },
  {
   "cell_type": "code",
   "execution_count": 29,
   "id": "limited-perspective",
   "metadata": {
    "ExecuteTime": {
     "end_time": "2021-03-10T13:22:05.777804Z",
     "start_time": "2021-03-10T13:22:05.540803Z"
    }
   },
   "outputs": [
    {
     "name": "stdout",
     "output_type": "stream",
     "text": [
      "rmse:4.545924183706092\n"
     ]
    }
   ],
   "source": [
    "y_pred = pipe.predict(X_test)\n",
    "print(f'rmse:{np.sqrt(mean_squared_error(y_test,y_pred))}')"
   ]
  },
  {
   "cell_type": "markdown",
   "id": "destroyed-january",
   "metadata": {},
   "source": [
    "- Linear regression provides aboout 72 percent accuracy in the training set while just 70 on the testing so this model is pretty good but the accuracy could be better."
   ]
  },
  {
   "cell_type": "markdown",
   "id": "mounted-practice",
   "metadata": {
    "ExecuteTime": {
     "end_time": "2021-02-03T17:00:34.788665Z",
     "start_time": "2021-02-03T17:00:34.777667Z"
    }
   },
   "source": [
    "### Linear Regression using polynomial features"
   ]
  },
  {
   "cell_type": "code",
   "execution_count": 30,
   "id": "killing-ground",
   "metadata": {
    "ExecuteTime": {
     "end_time": "2021-03-10T13:22:05.967801Z",
     "start_time": "2021-03-10T13:22:05.781802Z"
    }
   },
   "outputs": [
    {
     "name": "stdout",
     "output_type": "stream",
     "text": [
      "Cross Validation score: 0.8329821373498539\n",
      "Training score:0.9063562660183251\n"
     ]
    }
   ],
   "source": [
    "ploy_model=Pipeline([\n",
    "    (\"poly_feature\",PolynomialFeatures(degree=2,include_bias=False,interaction_only=True)),\n",
    "    (\"scale\",MinMaxScaler()),\n",
    "    (\"lin_reg\",LinearRegression())\n",
    "])\n",
    "print(f'Cross Validation score: {np.mean(cross_val_score(ploy_model,X_train,y_train,cv=5))}')\n",
    "ploy_model.fit(X_train,y_train)\n",
    "print(f'Training score:{ploy_model.score(X_train,y_train)}')"
   ]
  },
  {
   "cell_type": "code",
   "execution_count": 31,
   "id": "canadian-venezuela",
   "metadata": {
    "ExecuteTime": {
     "end_time": "2021-03-10T13:22:06.031804Z",
     "start_time": "2021-03-10T13:22:05.970802Z"
    }
   },
   "outputs": [
    {
     "name": "stdout",
     "output_type": "stream",
     "text": [
      "rmse:3.443543767769316\n"
     ]
    }
   ],
   "source": [
    "y_pred = ploy_model.predict(X_test)\n",
    "print(f'rmse:{np.sqrt(mean_squared_error(y_test,y_pred))}')"
   ]
  },
  {
   "cell_type": "markdown",
   "id": "informational-liverpool",
   "metadata": {},
   "source": [
    "- The polynomial model is doing slightly better than the linear"
   ]
  },
  {
   "cell_type": "markdown",
   "id": "chief-honduras",
   "metadata": {
    "ExecuteTime": {
     "end_time": "2021-02-03T16:35:46.800411Z",
     "start_time": "2021-02-03T16:35:46.796415Z"
    }
   },
   "source": [
    "## Ridge Regression"
   ]
  },
  {
   "cell_type": "code",
   "execution_count": 32,
   "id": "invisible-switzerland",
   "metadata": {
    "ExecuteTime": {
     "end_time": "2021-03-10T13:22:06.413801Z",
     "start_time": "2021-03-10T13:22:06.034808Z"
    }
   },
   "outputs": [
    {
     "name": "stdout",
     "output_type": "stream",
     "text": [
      "Best score: 0.7031148594852134\n",
      "Best parameters: {'ridge__alpha': 0.1}\n"
     ]
    }
   ],
   "source": [
    "pipe = Pipeline([\n",
    "    ('scaler',MinMaxScaler()),\n",
    "    ('ridge', Ridge())\n",
    "])\n",
    "param = {\n",
    "    'ridge__alpha':[0.001,0.01,0.1,1,10,100,1000]\n",
    "}\n",
    "grid = GridSearchCV(pipe, param_grid=param,cv=5)\n",
    "grid.fit(X_train,y_train)\n",
    "print(f'Best score: {grid.best_score_}')\n",
    "print(f'Best parameters: {grid.best_params_}')\n"
   ]
  },
  {
   "cell_type": "markdown",
   "id": "exotic-mileage",
   "metadata": {},
   "source": [
    "- From the grid search CV, we can find the best parameter of ridge but the score is not better with the linear."
   ]
  },
  {
   "cell_type": "code",
   "execution_count": 33,
   "id": "agricultural-insulin",
   "metadata": {
    "ExecuteTime": {
     "end_time": "2021-03-10T13:22:06.445801Z",
     "start_time": "2021-03-10T13:22:06.416802Z"
    }
   },
   "outputs": [
    {
     "name": "stdout",
     "output_type": "stream",
     "text": [
      "cross validation score: 0.7026198368336397\n"
     ]
    }
   ],
   "source": [
    "scaler=MinMaxScaler()\n",
    "X_scaled = scaler.fit_transform(feat_selection) \n",
    "X_train,X_test,y_train,y_test = train_test_split(X_scaled, data.target,random_state=42)\n",
    "ridge = Ridge(alpha=0.01)\n",
    "print(f'cross validation score: {np.mean(cross_val_score(ridge, X_train,y_train,cv=5))}')\n"
   ]
  },
  {
   "cell_type": "code",
   "execution_count": 34,
   "id": "alpine-masters",
   "metadata": {
    "ExecuteTime": {
     "end_time": "2021-03-10T13:22:06.589806Z",
     "start_time": "2021-03-10T13:22:06.448802Z"
    }
   },
   "outputs": [
    {
     "name": "stdout",
     "output_type": "stream",
     "text": [
      "Training score: 0.729498923403815\n",
      "Testing score: 0.7050113159167531\n",
      "rmse:4.545020897277229\n"
     ]
    }
   ],
   "source": [
    "ridge.fit(X_train,y_train)\n",
    "print(f'Training score: {ridge.score(X_train,y_train)}')\n",
    "print(f'Testing score: {ridge.score(X_test,y_test)}')\n",
    "y_pred = ridge.predict(X_test)\n",
    "print(f'rmse:{np.sqrt(mean_squared_error(y_test,y_pred))}')"
   ]
  },
  {
   "cell_type": "markdown",
   "id": "employed-maine",
   "metadata": {},
   "source": [
    "- The result is very similar to the linear regression"
   ]
  },
  {
   "cell_type": "markdown",
   "id": "facial-saturn",
   "metadata": {},
   "source": [
    "### Ridge with polynomial"
   ]
  },
  {
   "cell_type": "code",
   "execution_count": 35,
   "id": "flying-interference",
   "metadata": {
    "ExecuteTime": {
     "end_time": "2021-03-10T13:22:06.765807Z",
     "start_time": "2021-03-10T13:22:06.592805Z"
    }
   },
   "outputs": [
    {
     "name": "stdout",
     "output_type": "stream",
     "text": [
      "Cross Validation score: 0.8407640768713772\n",
      "Training score:0.8895616237412394\n"
     ]
    }
   ],
   "source": [
    "ploy_model=Pipeline([\n",
    "    (\"poly_feature\",PolynomialFeatures(degree=2,include_bias=False,interaction_only=True)),\n",
    "    (\"scale\",MinMaxScaler()),\n",
    "    (\"ridge\",Ridge(alpha=0.1))\n",
    "])\n",
    "print(f'Cross Validation score: {np.mean(cross_val_score(ploy_model,X_train,y_train,cv=5))}')\n",
    "ploy_model.fit(X_train,y_train)\n",
    "print(f'Training score:{ploy_model.score(X_train,y_train)}')"
   ]
  },
  {
   "cell_type": "code",
   "execution_count": 36,
   "id": "inner-bouquet",
   "metadata": {
    "ExecuteTime": {
     "end_time": "2021-03-10T13:22:06.860802Z",
     "start_time": "2021-03-10T13:22:06.770818Z"
    }
   },
   "outputs": [
    {
     "name": "stdout",
     "output_type": "stream",
     "text": [
      "rmse:3.458647801841868\n"
     ]
    }
   ],
   "source": [
    "y_pred = ploy_model.predict(X_test)\n",
    "print(f'rmse:{np.sqrt(mean_squared_error(y_test,y_pred))}')"
   ]
  },
  {
   "cell_type": "markdown",
   "id": "absent-jurisdiction",
   "metadata": {},
   "source": [
    "- Similar to linear regression with polynomial features, the model does slightly better than the linear model"
   ]
  },
  {
   "cell_type": "markdown",
   "id": "active-action",
   "metadata": {},
   "source": [
    "## Lasso"
   ]
  },
  {
   "cell_type": "code",
   "execution_count": 37,
   "id": "disciplinary-physiology",
   "metadata": {
    "ExecuteTime": {
     "end_time": "2021-03-10T13:22:07.259805Z",
     "start_time": "2021-03-10T13:22:06.863812Z"
    }
   },
   "outputs": [
    {
     "name": "stdout",
     "output_type": "stream",
     "text": [
      "Best score: 0.7025531813917588\n",
      "Best parameters: {'lasso__alpha': 0.001}\n"
     ]
    }
   ],
   "source": [
    "pipe = Pipeline([\n",
    "    ('scaler',MinMaxScaler()),\n",
    "    ('lasso', Lasso())\n",
    "])\n",
    "param = {\n",
    "    'lasso__alpha':[0.001,0.01,0.1,1,10,100,1000]\n",
    "}\n",
    "grid = GridSearchCV(pipe, param_grid=param,cv=5)\n",
    "grid.fit(X_train,y_train)\n",
    "print(f'Best score: {grid.best_score_}')\n",
    "print(f'Best parameters: {grid.best_params_}')\n"
   ]
  },
  {
   "cell_type": "code",
   "execution_count": 38,
   "id": "offshore-going",
   "metadata": {
    "ExecuteTime": {
     "end_time": "2021-03-10T13:22:07.323808Z",
     "start_time": "2021-03-10T13:22:07.263805Z"
    }
   },
   "outputs": [
    {
     "name": "stdout",
     "output_type": "stream",
     "text": [
      "cross validation score: 0.7013721466501036\n"
     ]
    }
   ],
   "source": [
    "scaler=MinMaxScaler()\n",
    "X_scaled = scaler.fit_transform(feat_selection) \n",
    "X_train,X_test,y_train,y_test = train_test_split(X_scaled, data.target,random_state=42)\n",
    "lasso = Lasso(alpha=.01)\n",
    "print(f'cross validation score: {np.mean(cross_val_score(lasso, X_train,y_train,cv=5))}')"
   ]
  },
  {
   "cell_type": "code",
   "execution_count": 39,
   "id": "unusual-deficit",
   "metadata": {
    "ExecuteTime": {
     "end_time": "2021-03-10T13:22:07.419808Z",
     "start_time": "2021-03-10T13:22:07.326804Z"
    }
   },
   "outputs": [
    {
     "name": "stdout",
     "output_type": "stream",
     "text": [
      "Training score: 0.728229029681327\n",
      "Testing score: 0.7026344138942208\n",
      "rmse:4.563295148910569\n"
     ]
    }
   ],
   "source": [
    "lasso.fit(X_train,y_train)\n",
    "print(f'Training score: {lasso.score(X_train,y_train)}')\n",
    "print(f'Testing score: {lasso.score(X_test,y_test)}')\n",
    "y_pred = lasso.predict(X_test)\n",
    "print(f'rmse:{np.sqrt(mean_squared_error(y_test,y_pred))}')"
   ]
  },
  {
   "cell_type": "markdown",
   "id": "revised-olympus",
   "metadata": {},
   "source": [
    "- Lasso doesnot do any better than linear or ridge. The model is slightly overfitting and still doesnot provide the best accuracy"
   ]
  },
  {
   "cell_type": "markdown",
   "id": "multiple-greece",
   "metadata": {},
   "source": [
    "## Support Vector Regressor"
   ]
  },
  {
   "cell_type": "code",
   "execution_count": 40,
   "id": "apart-province",
   "metadata": {
    "ExecuteTime": {
     "end_time": "2021-03-10T13:22:21.783803Z",
     "start_time": "2021-03-10T13:22:21.770806Z"
    }
   },
   "outputs": [],
   "source": [
    "from sklearn.svm import SVR"
   ]
  },
  {
   "cell_type": "code",
   "execution_count": 41,
   "id": "christian-interval",
   "metadata": {
    "ExecuteTime": {
     "end_time": "2021-03-10T13:22:30.674808Z",
     "start_time": "2021-03-10T13:22:22.575809Z"
    }
   },
   "outputs": [
    {
     "name": "stdout",
     "output_type": "stream",
     "text": [
      "Best params:\n",
      "{'svr__C': 100, 'svr__gamma': 1, 'svr__kernel': 'rbf'}\n",
      "\n",
      "Best cross-validation score: 0.88\n",
      "\n",
      "mean squared error: 9.96\n"
     ]
    }
   ],
   "source": [
    "\n",
    "pipe = Pipeline([\n",
    "    ('scaler',MinMaxScaler()),\n",
    "    ('svr', SVR())\n",
    "])\n",
    "\n",
    "param = {'svr__kernel':['rbf'],\n",
    "    'svr__C': [0.001, 0.01, 0.1, 1, 10, 100],\n",
    "        'svr__gamma': [0.001, 0.01, 0.1, 1, 10]}\n",
    "\n",
    "grid = GridSearchCV(pipe, param_grid=param, cv=5, scoring=\"r2\", n_jobs=-1)\n",
    "grid.fit(X_train, y_train)\n",
    "\n",
    "print(f\"Best params:\\n{grid.best_params_}\\n\")\n",
    "print(f\"Best cross-validation score: {grid.best_score_:.2f}\\n\")\n",
    "\n",
    "y_pred = grid.predict(X_test)\n",
    "print(f\"mean squared error: {mean_squared_error(y_test, y_pred):.2f}\")"
   ]
  },
  {
   "cell_type": "code",
   "execution_count": 42,
   "id": "faced-engineer",
   "metadata": {
    "ExecuteTime": {
     "end_time": "2021-03-10T13:22:40.764806Z",
     "start_time": "2021-03-10T13:22:40.684811Z"
    }
   },
   "outputs": [
    {
     "name": "stdout",
     "output_type": "stream",
     "text": [
      "Training score: 0.9381921346538948\n",
      "Testing Score: 0.8577598418006775\n"
     ]
    }
   ],
   "source": [
    "pipe = Pipeline([\n",
    "    ('scaler',MinMaxScaler()),\n",
    "    ('svr', SVR(kernel='rbf', C=100,gamma=1))\n",
    "])\n",
    "pipe.fit(X_train,y_train)\n",
    "print(f\"Training score: {pipe.score(X_train,y_train)}\")\n",
    "print(f\"Testing Score: {pipe.score(X_test,y_test)}\")"
   ]
  },
  {
   "cell_type": "markdown",
   "id": "organic-vacuum",
   "metadata": {},
   "source": [
    "- It takes a long time to find the best parameter this way\n",
    "- Although, the mean squared error is higher, it provides better validation score.\n",
    "-"
   ]
  },
  {
   "cell_type": "markdown",
   "id": "outside-learning",
   "metadata": {},
   "source": [
    "## Decision Tree Regression"
   ]
  },
  {
   "cell_type": "code",
   "execution_count": 43,
   "id": "stretch-abortion",
   "metadata": {
    "ExecuteTime": {
     "end_time": "2021-03-10T13:22:43.226811Z",
     "start_time": "2021-03-10T13:22:43.211807Z"
    }
   },
   "outputs": [],
   "source": [
    "from sklearn.tree import DecisionTreeRegressor"
   ]
  },
  {
   "cell_type": "code",
   "execution_count": 44,
   "id": "transsexual-christian",
   "metadata": {
    "ExecuteTime": {
     "end_time": "2021-03-10T13:22:45.188800Z",
     "start_time": "2021-03-10T13:22:43.992806Z"
    }
   },
   "outputs": [
    {
     "name": "stdout",
     "output_type": "stream",
     "text": [
      "Best params:\n",
      "{'max_depth': 7, 'max_features': 7}\n",
      "\n",
      "Best cross-validation score: 0.79\n",
      "\n",
      "mean squared error: 18.15\n"
     ]
    }
   ],
   "source": [
    "dt=DecisionTreeRegressor()\n",
    "param = {'max_depth': [i for i in range(1,10)],\n",
    "        'max_features': [i for i in range(1,X_train.shape[1])]}\n",
    "\n",
    "grid = GridSearchCV(dt, param_grid=param, cv=5, scoring=\"r2\", n_jobs=-1)\n",
    "grid.fit(X_train, y_train)\n",
    "\n",
    "print(f\"Best params:\\n{grid.best_params_}\\n\")\n",
    "print(f\"Best cross-validation score: {grid.best_score_:.2f}\\n\")\n",
    "\n",
    "y_pred = grid.predict(X_test)\n",
    "print(f\"mean squared error: {mean_squared_error(y_test, y_pred):.2f}\")"
   ]
  },
  {
   "cell_type": "markdown",
   "id": "assumed-interim",
   "metadata": {},
   "source": [
    "- From here we can see how the grid search provided us with the max depth=7 and max_features =7 as the best parameters for the decision tree\n",
    "- The validation error and mean squared error are both worse than the previous model\n",
    "- And also we can note that it used only 7 features so now we can chekc which features it picked"
   ]
  },
  {
   "cell_type": "code",
   "execution_count": null,
   "id": "sunset-breast",
   "metadata": {},
   "outputs": [],
   "source": []
  },
  {
   "cell_type": "code",
   "execution_count": 45,
   "id": "confused-hydrogen",
   "metadata": {
    "ExecuteTime": {
     "end_time": "2021-03-10T13:22:47.532804Z",
     "start_time": "2021-03-10T13:22:47.524803Z"
    }
   },
   "outputs": [],
   "source": [
    "def plot_feature_importance(model,x,name):\n",
    "    n_feature=x.shape[1]\n",
    "    print(n_feature)\n",
    "    plt.barh(range(n_feature),model.feature_importances_)\n",
    "    plt.yticks(np.arange(n_feature),name)\n",
    "    plt.xlabel(\"Feature importance\")\n",
    "    plt.ylabel(\"feature\")"
   ]
  },
  {
   "cell_type": "code",
   "execution_count": 46,
   "id": "fatal-federal",
   "metadata": {
    "ExecuteTime": {
     "end_time": "2021-03-10T13:22:48.327807Z",
     "start_time": "2021-03-10T13:22:48.307810Z"
    }
   },
   "outputs": [
    {
     "data": {
      "text/plain": [
       "array(['CRIM', 'ZN', 'INDUS', 'CHAS', 'NOX', 'RM', 'AGE', 'DIS', 'RAD',\n",
       "       'TAX', 'PTRATIO', 'B', 'LSTAT'], dtype='<U7')"
      ]
     },
     "execution_count": 46,
     "metadata": {},
     "output_type": "execute_result"
    }
   ],
   "source": [
    "data.feature_names"
   ]
  },
  {
   "cell_type": "code",
   "execution_count": 47,
   "id": "arabic-sperm",
   "metadata": {
    "ExecuteTime": {
     "end_time": "2021-03-10T13:23:08.836831Z",
     "start_time": "2021-03-10T13:23:08.355845Z"
    }
   },
   "outputs": [
    {
     "name": "stdout",
     "output_type": "stream",
     "text": [
      "11\n"
     ]
    },
    {
     "data": {
      "image/png": "[encoded data removed]",
      "text/plain": [
       "<Figure size 432x288 with 1 Axes>"
      ]
     },
     "metadata": {
      "needs_background": "light"
     },
     "output_type": "display_data"
    }
   ],
   "source": [
    "dt = DecisionTreeRegressor(max_depth=7, max_features=7, random_state=5)\n",
    "dt.fit(X_train, y_train)\n",
    "plot_feature_importance(dt,X_train,col)"
   ]
  },
  {
   "cell_type": "markdown",
   "id": "premier-grain",
   "metadata": {},
   "source": [
    "- From this plot, it can be seen that how some features are highly influential in fitting the model while some are as influencial as none."
   ]
  },
  {
   "cell_type": "markdown",
   "id": "exclusive-passage",
   "metadata": {},
   "source": [
    "## Random Forest Regressor"
   ]
  },
  {
   "cell_type": "code",
   "execution_count": 48,
   "id": "musical-happiness",
   "metadata": {
    "ExecuteTime": {
     "end_time": "2021-03-10T13:23:35.588978Z",
     "start_time": "2021-03-10T13:23:28.662986Z"
    }
   },
   "outputs": [],
   "source": [
    "from sklearn.ensemble import RandomForestRegressor, VotingRegressor"
   ]
  },
  {
   "cell_type": "code",
   "execution_count": 51,
   "id": "found-interest",
   "metadata": {
    "ExecuteTime": {
     "end_time": "2021-03-10T13:40:07.555410Z",
     "start_time": "2021-03-10T13:37:41.671415Z"
    }
   },
   "outputs": [
    {
     "name": "stdout",
     "output_type": "stream",
     "text": [
      "Best params:\n",
      "{'max_depth': 10, 'max_features': 6, 'n_estimators': 200}\n",
      "\n",
      "Best cross-validation score: 0.85\n",
      "\n",
      "mean squared error: 9.56\n"
     ]
    }
   ],
   "source": [
    "rf = RandomForestRegressor(n_jobs=-1, random_state=5)\n",
    "\n",
    "param = {'n_estimators': [200,300,400],\n",
    "        'max_depth': [7,9,10,11,12],\n",
    "        'max_features': [4,5,6,7]}\n",
    "\n",
    "grid = GridSearchCV(rf, param_grid=param, n_jobs=-1, scoring=\"r2\", cv=5)\n",
    "grid.fit(X_train, y_train)\n",
    "\n",
    "print(f\"Best params:\\n{grid.best_params_}\\n\")\n",
    "print(f\"Best cross-validation score: {grid.best_score_:.2f}\\n\")\n",
    "\n",
    "y_pred = grid.predict(X_test)\n",
    "print(f\"mean squared error: {mean_squared_error(y_test, y_pred):.2f}\")"
   ]
  },
  {
   "cell_type": "code",
   "execution_count": 52,
   "id": "caroline-philippines",
   "metadata": {
    "ExecuteTime": {
     "end_time": "2021-03-10T13:40:21.674403Z",
     "start_time": "2021-03-10T13:40:20.770416Z"
    }
   },
   "outputs": [
    {
     "name": "stdout",
     "output_type": "stream",
     "text": [
      "Training score0.9780086249072885\n",
      "Testing Score: 0.8634162744461334\n"
     ]
    }
   ],
   "source": [
    "rf = RandomForestRegressor(max_depth=10,max_features=6, n_estimators=200,n_jobs=-1, random_state=5)\n",
    "rf.fit(X_train,y_train)\n",
    "print(f'Training score{rf.score(X_train,y_train)}')\n",
    "print(f'Testing Score: {rf.score(X_test,y_test)}')"
   ]
  },
  {
   "cell_type": "markdown",
   "id": "divine-durham",
   "metadata": {},
   "source": [
    "### Voting Classifier"
   ]
  },
  {
   "cell_type": "code",
   "execution_count": 53,
   "id": "appointed-interaction",
   "metadata": {
    "ExecuteTime": {
     "end_time": "2021-03-10T13:40:24.944413Z",
     "start_time": "2021-03-10T13:40:24.933414Z"
    }
   },
   "outputs": [],
   "source": [
    "log_clf=LinearRegression()\n",
    "rnd_clf=RandomForestRegressor(n_estimators=300,max_depth=9,max_features=6)\n",
    "svr_clf=SVR(kernel='rbf',C=100, gamma=1)\n",
    "\n",
    "voting_reg=VotingRegressor(\n",
    "    [(\"lr\",log_clf),(\"rf\",rnd_clf),(\"svr\",svr_clf)]\n",
    ")"
   ]
  },
  {
   "cell_type": "code",
   "execution_count": 54,
   "id": "employed-dialogue",
   "metadata": {
    "ExecuteTime": {
     "end_time": "2021-03-10T13:40:30.250406Z",
     "start_time": "2021-03-10T13:40:25.844416Z"
    }
   },
   "outputs": [
    {
     "name": "stdout",
     "output_type": "stream",
     "text": [
      "Average cross-validation score: 0.86\n",
      "\n",
      "mean squared error: 10.09\n"
     ]
    }
   ],
   "source": [
    "score = cross_val_score(voting_reg, X_train, y_train, scoring=\"r2\", n_jobs=-1, cv=5)\n",
    "\n",
    "print(f\"Average cross-validation score: {np.mean(score):.2f}\\n\")\n",
    "\n",
    "voting_reg.fit(X_train, y_train)\n",
    "y_pred = voting_reg.predict(X_test)\n",
    "\n",
    "print(f\"mean squared error: {mean_squared_error(y_test, y_pred):.2f}\")"
   ]
  },
  {
   "cell_type": "markdown",
   "id": "adapted-graphics",
   "metadata": {},
   "source": [
    "## Bagging"
   ]
  },
  {
   "cell_type": "code",
   "execution_count": 55,
   "id": "common-exchange",
   "metadata": {
    "ExecuteTime": {
     "end_time": "2021-03-10T13:40:34.184403Z",
     "start_time": "2021-03-10T13:40:33.219412Z"
    }
   },
   "outputs": [
    {
     "name": "stdout",
     "output_type": "stream",
     "text": [
      "Average cross-validation score: 0.88\n",
      "\n",
      "mean squared error: 10.22\n"
     ]
    }
   ],
   "source": [
    "from sklearn.ensemble import BaggingRegressor\n",
    "\n",
    "svr = SVR(kernel=\"rbf\", C=100, gamma=1)\n",
    "bag_rg = BaggingRegressor(svr, n_jobs=-1, random_state=5, bootstrap=True)\n",
    "\n",
    "score = cross_val_score(bag_rg, X_train, y_train, scoring=\"r2\", n_jobs=-1, cv=5)\n",
    "print(f\"Average cross-validation score: {np.mean(score):.2f}\\n\")\n",
    "\n",
    "bag_rg.fit(X_train, y_train)\n",
    "y_pred = bag_rg.predict(X_test)\n",
    "\n",
    "print(f\"mean squared error: {mean_squared_error(y_test, y_pred):.2f}\")"
   ]
  },
  {
   "cell_type": "code",
   "execution_count": 56,
   "id": "directed-moldova",
   "metadata": {
    "ExecuteTime": {
     "end_time": "2021-03-10T13:41:19.926766Z",
     "start_time": "2021-03-10T13:40:35.051415Z"
    },
    "scrolled": true
   },
   "outputs": [
    {
     "name": "stdout",
     "output_type": "stream",
     "text": [
      "Best params:\n",
      "{'max_features': 10, 'n_estimators': 100}\n",
      "\n",
      "Best cross-validation score: 0.88\n",
      "\n",
      "mean squared error: 10.89\n"
     ]
    }
   ],
   "source": [
    "svr = SVR(kernel=\"rbf\", C=100, gamma=1)\n",
    "bag_rg = BaggingRegressor(svr, n_jobs=-1, random_state=5, bootstrap=True)\n",
    "\n",
    "param = {'n_estimators': [10,30,50,100],\n",
    "        'max_features': [i for i in range(1,X_train.shape[1])]}\n",
    "\n",
    "grid = GridSearchCV(bag_rg, param_grid=param, cv=5, scoring=\"r2\", n_jobs=-1)\n",
    "grid.fit(X_train, y_train)\n",
    "\n",
    "print(f\"Best params:\\n{grid.best_params_}\\n\")\n",
    "print(f\"Best cross-validation score: {grid.best_score_:.2f}\\n\")\n",
    "\n",
    "y_pred = grid.predict(X_test)\n",
    "print(f\"mean squared error: {mean_squared_error(y_test, y_pred):.2f}\")"
   ]
  },
  {
   "cell_type": "code",
   "execution_count": 57,
   "id": "atmospheric-mauritius",
   "metadata": {
    "ExecuteTime": {
     "end_time": "2021-03-10T13:41:23.011771Z",
     "start_time": "2021-03-10T13:41:22.993776Z"
    }
   },
   "outputs": [],
   "source": [
    "from sklearn.tree import DecisionTreeRegressor\n",
    "from sklearn.ensemble import BaggingRegressor"
   ]
  },
  {
   "cell_type": "code",
   "execution_count": 58,
   "id": "amino-clarity",
   "metadata": {
    "ExecuteTime": {
     "end_time": "2021-03-10T13:41:23.661771Z",
     "start_time": "2021-03-10T13:41:23.649770Z"
    }
   },
   "outputs": [],
   "source": [
    "X_train,X_test,y_train,y_test = train_test_split(data.data, data.target, random_state=42)"
   ]
  },
  {
   "cell_type": "code",
   "execution_count": 59,
   "id": "whole-grammar",
   "metadata": {
    "ExecuteTime": {
     "end_time": "2021-03-10T13:41:26.233763Z",
     "start_time": "2021-03-10T13:41:25.664771Z"
    }
   },
   "outputs": [
    {
     "name": "stdout",
     "output_type": "stream",
     "text": [
      " traning acc: 0.871178666393958\n",
      " testing acc: 0.795599496689207\n"
     ]
    }
   ],
   "source": [
    "past_clf=BaggingRegressor(DecisionTreeRegressor(max_leaf_nodes=9,random_state=42),\n",
    "                         n_estimators=100, max_samples=100,\n",
    "                         bootstrap=False, random_state=42,\n",
    "                          n_jobs=-1)\n",
    "past_clf.fit(X_train,y_train)\n",
    "print(f\" traning acc: {past_clf.score(X_train,y_train)}\")\n",
    "print(f\" testing acc: {past_clf.score(X_test,y_test)}\")"
   ]
  },
  {
   "cell_type": "markdown",
   "id": "first-mitchell",
   "metadata": {
    "ExecuteTime": {
     "end_time": "2021-02-04T08:58:22.285027Z",
     "start_time": "2021-02-04T08:58:22.276038Z"
    }
   },
   "source": [
    "### Out of Bag Evaluation"
   ]
  },
  {
   "cell_type": "code",
   "execution_count": 60,
   "id": "careful-lafayette",
   "metadata": {
    "ExecuteTime": {
     "end_time": "2021-03-10T13:41:28.791765Z",
     "start_time": "2021-03-10T13:41:28.235769Z"
    }
   },
   "outputs": [
    {
     "name": "stdout",
     "output_type": "stream",
     "text": [
      " traning acc: 0.8337162981224495\n",
      " validation acc: 0.7807369054347484\n",
      " testing acc: 0.750236281843554\n"
     ]
    }
   ],
   "source": [
    "oob_reg=BaggingRegressor(DecisionTreeRegressor(max_leaf_nodes=6,max_features=7,random_state=42),\n",
    "                         n_estimators=100, max_samples=100,\n",
    "                         bootstrap=True, random_state=42,\n",
    "                          n_jobs=-1,\n",
    "                           oob_score=True,)\n",
    "oob_reg.fit(X_train,y_train)\n",
    "print(f\" traning acc: {oob_reg.score(X_train,y_train)}\")\n",
    "print(f\" validation acc: {oob_reg.oob_score_}\")\n",
    "print(f\" testing acc: {oob_reg.score(X_test,y_test)}\")"
   ]
  },
  {
   "cell_type": "markdown",
   "id": "raised-thriller",
   "metadata": {
    "ExecuteTime": {
     "end_time": "2021-02-18T20:45:09.538045Z",
     "start_time": "2021-02-18T20:45:09.528049Z"
    }
   },
   "source": [
    "## Boosting"
   ]
  },
  {
   "cell_type": "code",
   "execution_count": 61,
   "id": "selective-cooking",
   "metadata": {
    "ExecuteTime": {
     "end_time": "2021-03-10T13:41:30.287775Z",
     "start_time": "2021-03-10T13:41:30.282775Z"
    }
   },
   "outputs": [],
   "source": [
    "from sklearn.ensemble import GradientBoostingRegressor"
   ]
  },
  {
   "cell_type": "code",
   "execution_count": 62,
   "id": "liable-awareness",
   "metadata": {
    "ExecuteTime": {
     "end_time": "2021-03-10T13:41:31.149772Z",
     "start_time": "2021-03-10T13:41:31.114771Z"
    }
   },
   "outputs": [
    {
     "name": "stdout",
     "output_type": "stream",
     "text": [
      "Training: 0.9327721194335672\n",
      "Testing: 0.7771286562526972\n"
     ]
    }
   ],
   "source": [
    "gbrt=GradientBoostingRegressor(max_depth=3,learning_rate=1,n_estimators=5,max_leaf_nodes=8)\n",
    "gbrt.fit(X_train,y_train)\n",
    "print(f'Training: {gbrt.score(X_train,y_train)}')\n",
    "print(f'Testing: {gbrt.score(X_test,y_test)}')\n"
   ]
  },
  {
   "cell_type": "markdown",
   "id": "organized-wagon",
   "metadata": {},
   "source": [
    "####  ADA boost"
   ]
  },
  {
   "cell_type": "code",
   "execution_count": 63,
   "id": "impossible-edinburgh",
   "metadata": {
    "ExecuteTime": {
     "end_time": "2021-03-10T13:42:19.080765Z",
     "start_time": "2021-03-10T13:41:33.158769Z"
    }
   },
   "outputs": [
    {
     "name": "stdout",
     "output_type": "stream",
     "text": [
      "Best params:\n",
      "{'learning_rate': 0.8, 'n_estimators': 100}\n",
      "\n",
      "Best cross-validation score: 0.85\n",
      "\n",
      "mean square error: 11.09\n"
     ]
    }
   ],
   "source": [
    "from sklearn.ensemble import AdaBoostRegressor\n",
    "\n",
    "dt = DecisionTreeRegressor(max_depth=6, max_features=7, random_state=5)\n",
    "ada_rg = AdaBoostRegressor(base_estimator=dt, random_state=5)\n",
    "\n",
    "param = {'n_estimators': [50,100,200],\n",
    "        'learning_rate': [i for i in np.arange(0.1,2.1,0.1)]}\n",
    "\n",
    "grid = GridSearchCV(ada_rg, param_grid=param, n_jobs=-1, scoring=\"r2\", cv=5)\n",
    "grid.fit(X_train, y_train)\n",
    "\n",
    "print(f\"Best params:\\n{grid.best_params_}\\n\")\n",
    "print(f\"Best cross-validation score: {grid.best_score_:.2f}\\n\")\n",
    "\n",
    "y_pred = grid.predict(X_test)\n",
    "print(f\"mean square error: {mean_squared_error(y_test, y_pred):.2f}\")"
   ]
  },
  {
   "cell_type": "code",
   "execution_count": 64,
   "id": "leading-study",
   "metadata": {
    "ExecuteTime": {
     "end_time": "2021-03-10T13:42:52.356767Z",
     "start_time": "2021-03-10T13:42:23.256778Z"
    }
   },
   "outputs": [
    {
     "name": "stdout",
     "output_type": "stream",
     "text": [
      "Best params:\n",
      "{'preprocessing': None, 'regressor': RandomForestRegressor(max_depth=6, max_features=5), 'regressor__max_depth': 6, 'regressor__max_features': 5}\n",
      "\n",
      "Best cross-validation score: 0.86\n",
      "Test-set score: 0.73\n"
     ]
    }
   ],
   "source": [
    "X_train, X_test, y_train, y_test = train_test_split(\n",
    "data.data, data.target, random_state=0)\n",
    "pipe = Pipeline([('preprocessing', StandardScaler()), ('regressor', SVR())])\n",
    "param_grid = [\n",
    "{'regressor': [SVR()], \n",
    " 'preprocessing': [StandardScaler(), None],\n",
    "'regressor__gamma': [0.001, 0.01, 0.1, 1, 10, 100],\n",
    "'regressor__C': [0.001, 0.01, 0.1, 1, 10, 100]},\n",
    "    {'regressor': [Ridge()],\n",
    "    'preprocessing':[StandardScaler(), MinMaxScaler(), None],\n",
    "    'regressor__alpha':[0,0.1,0.5,1,5,10,20]},\n",
    "    {'regressor': [LinearRegression()],\n",
    "    'preprocessing':[StandardScaler(),MinMaxScaler(),None],\n",
    "    },\n",
    "    \n",
    "{'regressor': [RandomForestRegressor(n_estimators=100)],\n",
    "'preprocessing': [None], \n",
    "'regressor__max_features': [ 3,4,5,6,7],\n",
    "'regressor__max_depth':[3,4,5,6]}\n",
    "]\n",
    "#X_train, X_test, y_train, y_test = train_test_split(\n",
    "#cancer.data, cancer.target, random_state=0)\n",
    "grid = GridSearchCV(pipe, param_grid, cv=5)\n",
    "grid.fit(X_train, y_train)\n",
    "print(\"Best params:\\n{}\\n\".format(grid.best_params_))\n",
    "print(\"Best cross-validation score: {:.2f}\".format(grid.best_score_))\n",
    "print(\"Test-set score: {:.2f}\".format(grid.score(X_test, y_test)))"
   ]
  },
  {
   "cell_type": "markdown",
   "id": "limiting-leonard",
   "metadata": {},
   "source": [
    "### Conclusion of Supervised learning\n",
    "\n",
    "- After fitting the data through many regression models, we can see that random forest provides better training score but the model is slightly overfitting with the best parameters.\n",
    "- Linear models have lower accuracy but the model is not overfitting as much\n",
    "- Polynomial features gives better accuracy and model with the linear models\n",
    "- Support Vector does as good as the linear models"
   ]
  },
  {
   "cell_type": "markdown",
   "id": "beneficial-designation",
   "metadata": {},
   "source": [
    "# Dimension Reduction"
   ]
  },
  {
   "cell_type": "markdown",
   "id": "ideal-armstrong",
   "metadata": {},
   "source": [
    "## PCA"
   ]
  },
  {
   "cell_type": "code",
   "execution_count": 65,
   "id": "unnecessary-blogger",
   "metadata": {
    "ExecuteTime": {
     "end_time": "2021-03-10T13:43:07.174767Z",
     "start_time": "2021-03-10T13:43:07.167776Z"
    }
   },
   "outputs": [],
   "source": [
    "from sklearn.decomposition import PCA"
   ]
  },
  {
   "cell_type": "code",
   "execution_count": 66,
   "id": "unlikely-claim",
   "metadata": {
    "ExecuteTime": {
     "end_time": "2021-03-10T13:43:07.952777Z",
     "start_time": "2021-03-10T13:43:07.941776Z"
    }
   },
   "outputs": [],
   "source": [
    "X=data.data\n",
    "y = data.target"
   ]
  },
  {
   "cell_type": "code",
   "execution_count": 67,
   "id": "appointed-tribe",
   "metadata": {
    "ExecuteTime": {
     "end_time": "2021-03-10T13:43:08.906763Z",
     "start_time": "2021-03-10T13:43:08.820767Z"
    }
   },
   "outputs": [
    {
     "name": "stdout",
     "output_type": "stream",
     "text": [
      "The shape of transformed X : (506, 2)\n",
      "Variance : [0.80582318 0.16305197]\n"
     ]
    }
   ],
   "source": [
    "pca = PCA(n_components=0.95)\n",
    "X_pca = pca.fit_transform(X)\n",
    "print(f'The shape of transformed X : {X_pca.shape}')\n",
    "print(f'Variance : {pca.explained_variance_ratio_}')"
   ]
  },
  {
   "cell_type": "markdown",
   "id": "respective-grenada",
   "metadata": {},
   "source": [
    "- Since we do not have much features(only 13), so preseving 95% of the data only already gives us with 2 features only.\n",
    "- The 2 variance shows the variance preserved by the first component and second component respectively.\n",
    "- Below we can see few components of X_pca"
   ]
  },
  {
   "cell_type": "code",
   "execution_count": 68,
   "id": "portable-while",
   "metadata": {
    "ExecuteTime": {
     "end_time": "2021-03-10T13:43:10.982763Z",
     "start_time": "2021-03-10T13:43:10.966767Z"
    }
   },
   "outputs": [
    {
     "name": "stdout",
     "output_type": "stream",
     "text": [
      "The first 10 components \n",
      "[[-119.81884272   -5.56005586]\n",
      " [-168.89015548   10.11620863]\n",
      " [-169.31170747   14.0805323 ]\n",
      " [-190.23064226   18.3024633 ]\n",
      " [-190.13345103   16.09794743]\n",
      " [-188.95057656   18.72916255]\n",
      " [-104.33599656   -8.73550927]\n",
      " [-102.09430837  -10.10802955]\n",
      " [ -98.5282714    -0.24790911]\n",
      " [-100.030155     -0.31766787]] \n"
     ]
    }
   ],
   "source": [
    "print(f'The first 10 components \\n{X_pca[:10]} ') "
   ]
  },
  {
   "cell_type": "code",
   "execution_count": 69,
   "id": "heard-credits",
   "metadata": {
    "ExecuteTime": {
     "end_time": "2021-03-10T13:43:11.668766Z",
     "start_time": "2021-03-10T13:43:11.656774Z"
    }
   },
   "outputs": [
    {
     "name": "stdout",
     "output_type": "stream",
     "text": [
      "The shape of the recovered data :(506, 13)\n"
     ]
    }
   ],
   "source": [
    "X_recovered = pca.inverse_transform(X_pca)\n",
    "print(f'The shape of the recovered data :{X_recovered.shape}')"
   ]
  },
  {
   "cell_type": "markdown",
   "id": "amended-perception",
   "metadata": {},
   "source": [
    "- We have got all the features back with the pca inverse transform method.\n",
    "- We can check how it differs from the original dataset using the mean_squared_error"
   ]
  },
  {
   "cell_type": "code",
   "execution_count": 70,
   "id": "necessary-palestine",
   "metadata": {
    "ExecuteTime": {
     "end_time": "2021-03-10T13:43:13.024774Z",
     "start_time": "2021-03-10T13:43:13.002777Z"
    }
   },
   "outputs": [
    {
     "name": "stdout",
     "output_type": "stream",
     "text": [
      "The reconstruction error between original and recovered data: 91.59711211033571\n"
     ]
    }
   ],
   "source": [
    "from sklearn.metrics import mean_squared_error\n",
    "reconstruction_error = mean_squared_error(X, X_recovered)\n",
    "print(f'The reconstruction error between original and recovered data: {reconstruction_error}')"
   ]
  },
  {
   "cell_type": "markdown",
   "id": "prostate-significance",
   "metadata": {},
   "source": [
    "- The reconstruction error is quite high, so we have to try other dimension reduction techniques to check if we can minimize the error"
   ]
  },
  {
   "cell_type": "markdown",
   "id": "portuguese-costa",
   "metadata": {},
   "source": [
    "## Kernel PCA"
   ]
  },
  {
   "cell_type": "code",
   "execution_count": 71,
   "id": "scheduled-pasta",
   "metadata": {
    "ExecuteTime": {
     "end_time": "2021-03-10T13:43:15.062773Z",
     "start_time": "2021-03-10T13:43:15.048773Z"
    }
   },
   "outputs": [],
   "source": [
    "from sklearn.decomposition import KernelPCA"
   ]
  },
  {
   "cell_type": "code",
   "execution_count": 72,
   "id": "final-consultation",
   "metadata": {
    "ExecuteTime": {
     "end_time": "2021-03-10T13:43:16.222764Z",
     "start_time": "2021-03-10T13:43:15.720768Z"
    }
   },
   "outputs": [
    {
     "name": "stdout",
     "output_type": "stream",
     "text": [
      "(506, 2)\n"
     ]
    }
   ],
   "source": [
    "kpca_rbf = KernelPCA(n_components =2, kernel='rbf', gamma =0.01, fit_inverse_transform=True)\n",
    "X_reduced_rbf = kpca_rbf.fit_transform(X)\n",
    "print(X_reduced_rbf.shape)"
   ]
  },
  {
   "cell_type": "code",
   "execution_count": 73,
   "id": "disciplinary-cutting",
   "metadata": {
    "ExecuteTime": {
     "end_time": "2021-03-10T13:43:16.931761Z",
     "start_time": "2021-03-10T13:43:16.823773Z"
    }
   },
   "outputs": [],
   "source": [
    "X_recovered_rbf = kpca_rbf.inverse_transform(X_reduced_rbf)"
   ]
  },
  {
   "cell_type": "code",
   "execution_count": 74,
   "id": "trying-ranking",
   "metadata": {
    "ExecuteTime": {
     "end_time": "2021-03-10T13:43:17.568770Z",
     "start_time": "2021-03-10T13:43:17.548780Z"
    }
   },
   "outputs": [
    {
     "name": "stdout",
     "output_type": "stream",
     "text": [
      "The reconstruction error between original and recovered data: 1.772104324882849e-23\n"
     ]
    }
   ],
   "source": [
    "reconstruction_error_rbf = mean_squared_error(X, X_recovered_rbf)\n",
    "print(f'The reconstruction error between original and recovered data: {reconstruction_error_rbf}')"
   ]
  },
  {
   "cell_type": "markdown",
   "id": "elegant-hawaiian",
   "metadata": {},
   "source": [
    "- The reconstruction error is remarkabely reduced as it is the negative exponential\n",
    "- We can use gridsearch to see what and how other kernels will do with the kernel pca"
   ]
  },
  {
   "cell_type": "code",
   "execution_count": 75,
   "id": "tender-likelihood",
   "metadata": {
    "ExecuteTime": {
     "end_time": "2021-03-10T13:43:18.738771Z",
     "start_time": "2021-03-10T13:43:18.723775Z"
    }
   },
   "outputs": [],
   "source": [
    "from sklearn.model_selection  import GridSearchCV\n",
    "from sklearn.linear_model import LinearRegression\n",
    "from sklearn.pipeline import Pipeline\n",
    "from sklearn.svm import SVR"
   ]
  },
  {
   "cell_type": "code",
   "execution_count": 76,
   "id": "electronic-coast",
   "metadata": {
    "ExecuteTime": {
     "end_time": "2021-03-10T13:43:21.741767Z",
     "start_time": "2021-03-10T13:43:19.458772Z"
    }
   },
   "outputs": [
    {
     "data": {
      "text/plain": [
       "GridSearchCV(cv=3,\n",
       "             estimator=Pipeline(steps=[('kpca', KernelPCA(n_components=2)),\n",
       "                                       ('lreg', SVR())]),\n",
       "             param_grid={'kpca__gamma': array([1.0e-05, 1.2e-04, 2.3e-04, 3.4e-04, 4.5e-04, 5.6e-04, 6.7e-04,\n",
       "       7.8e-04, 8.9e-04, 1.0e-03]),\n",
       "                         'kpca__kernel': ['rbf', 'sigmoid', 'poly']})"
      ]
     },
     "execution_count": 76,
     "metadata": {},
     "output_type": "execute_result"
    }
   ],
   "source": [
    "pipe=Pipeline([\n",
    "    (\"kpca\",KernelPCA(n_components=2)),\n",
    "    (\"lreg\",SVR())\n",
    "])\n",
    "param={ \"kpca__gamma\":np.linspace(0.00001,0.001,10),\n",
    "      \"kpca__kernel\":[\"rbf\",\"sigmoid\",\"poly\"]}\n",
    "\n",
    "grid=GridSearchCV(pipe,param_grid=param,cv=3)\n",
    "grid.fit(X,y)"
   ]
  },
  {
   "cell_type": "code",
   "execution_count": 77,
   "id": "comfortable-contributor",
   "metadata": {
    "ExecuteTime": {
     "end_time": "2021-03-10T13:43:24.672779Z",
     "start_time": "2021-03-10T13:43:24.657773Z"
    }
   },
   "outputs": [
    {
     "data": {
      "text/plain": [
       "{'kpca__gamma': 1e-05, 'kpca__kernel': 'rbf'}"
      ]
     },
     "execution_count": 77,
     "metadata": {},
     "output_type": "execute_result"
    }
   ],
   "source": [
    "grid.best_params_"
   ]
  },
  {
   "cell_type": "code",
   "execution_count": 78,
   "id": "outdoor-comfort",
   "metadata": {
    "ExecuteTime": {
     "end_time": "2021-03-10T13:43:25.804764Z",
     "start_time": "2021-03-10T13:43:25.709784Z"
    }
   },
   "outputs": [],
   "source": [
    "best_pca=KernelPCA(n_components=2,kernel=\"rbf\",gamma=0.00005,\n",
    "                  fit_inverse_transform=True)\n",
    "X_reduced=best_pca.fit_transform(X)\n",
    "X_inv=best_pca.inverse_transform(X_reduced)"
   ]
  },
  {
   "cell_type": "code",
   "execution_count": 79,
   "id": "distinguished-cliff",
   "metadata": {
    "ExecuteTime": {
     "end_time": "2021-03-10T13:43:30.006769Z",
     "start_time": "2021-03-10T13:43:29.999772Z"
    }
   },
   "outputs": [
    {
     "name": "stdout",
     "output_type": "stream",
     "text": [
      "The reconstruction error is : 1.599383734290956e-23\n"
     ]
    }
   ],
   "source": [
    "print(f'The reconstruction error is : {mean_squared_error(X,X_inv)}')"
   ]
  },
  {
   "cell_type": "markdown",
   "id": "manual-relief",
   "metadata": {},
   "source": [
    "### Using the reduced X from KernelPCa to do SVR"
   ]
  },
  {
   "cell_type": "code",
   "execution_count": 80,
   "id": "compound-homework",
   "metadata": {
    "ExecuteTime": {
     "end_time": "2021-03-10T13:43:32.794773Z",
     "start_time": "2021-03-10T13:43:32.781770Z"
    }
   },
   "outputs": [],
   "source": [
    "X_train_reduced,X_test_reduced,y_train,y_test = train_test_split(X_reduced, y, random_state=42)"
   ]
  },
  {
   "cell_type": "code",
   "execution_count": 81,
   "id": "cutting-syndrome",
   "metadata": {
    "ExecuteTime": {
     "end_time": "2021-03-10T13:43:33.558775Z",
     "start_time": "2021-03-10T13:43:33.545770Z"
    }
   },
   "outputs": [
    {
     "name": "stdout",
     "output_type": "stream",
     "text": [
      "(379, 2) (379,)\n"
     ]
    }
   ],
   "source": [
    "print(X_train_reduced.shape, y_train.shape)"
   ]
  },
  {
   "cell_type": "code",
   "execution_count": 82,
   "id": "provincial-sacramento",
   "metadata": {
    "ExecuteTime": {
     "end_time": "2021-03-10T13:43:34.299776Z",
     "start_time": "2021-03-10T13:43:34.224765Z"
    }
   },
   "outputs": [
    {
     "name": "stdout",
     "output_type": "stream",
     "text": [
      "Training score: -0.01687985964445704\n",
      "mean squared error: 70.22\n",
      "Testing Score: -0.002778221382998103\n"
     ]
    }
   ],
   "source": [
    "pipe = Pipeline([\n",
    "    ('scaler',MinMaxScaler()),\n",
    "    ('kernelPCA',KernelPCA(n_components=2,kernel=\"rbf\",gamma=0.00005)),\n",
    "    ('svr', SVR(kernel='rbf', C=100,gamma=10))\n",
    "])\n",
    "pipe.fit(X_train,y_train)\n",
    "print(f\"Training score: {pipe.score(X_train,y_train)}\")\n",
    "y_pred = pipe.predict(X_test)\n",
    "print(f\"mean squared error: {mean_squared_error(y_test, y_pred):.2f}\")\n",
    "print(f\"Testing Score: {pipe.score(X_test,y_test)}\")"
   ]
  },
  {
   "cell_type": "markdown",
   "id": "considerable-vertical",
   "metadata": {
    "ExecuteTime": {
     "end_time": "2021-02-19T09:37:34.234385Z",
     "start_time": "2021-02-19T09:37:34.173392Z"
    }
   },
   "source": [
    "- As we can see how the model score has changed drastically and doing worse by choosing the same parameter without dimension reduction, lets check what the grid search will give us "
   ]
  },
  {
   "cell_type": "code",
   "execution_count": 83,
   "id": "changed-discharge",
   "metadata": {
    "ExecuteTime": {
     "end_time": "2021-03-10T13:43:39.612765Z",
     "start_time": "2021-03-10T13:43:35.997773Z"
    }
   },
   "outputs": [
    {
     "name": "stdout",
     "output_type": "stream",
     "text": [
      "Best params:\n",
      "{'svr__C': 100, 'svr__gamma': 10, 'svr__kernel': 'rbf'}\n",
      "\n",
      "Best cross-validation score: -0.03\n",
      "\n",
      "mean squared error: 70.22\n"
     ]
    }
   ],
   "source": [
    "pipe = Pipeline([\n",
    "    ('scaler',MinMaxScaler()),\n",
    "    ('kernelPCA',KernelPCA(n_components=2,kernel=\"rbf\",gamma=0.00005)),\n",
    "    ('svr', SVR())\n",
    "])\n",
    "\n",
    "param = {'svr__kernel':['rbf','linear','poly'],\n",
    "    'svr__C': [0.001, 0.01, 0.1, 1, 10, 100],\n",
    "        'svr__gamma': [0.001, 0.01, 0.1, 1, 10]}\n",
    "\n",
    "grid = GridSearchCV(pipe, param_grid=param, cv=5, scoring=\"r2\", n_jobs=-1)\n",
    "grid.fit(X_train, y_train)\n",
    "\n",
    "print(f\"Best params:\\n{grid.best_params_}\\n\")\n",
    "print(f\"Best cross-validation score: {grid.best_score_:.2f}\\n\")\n",
    "\n",
    "y_pred = grid.predict(X_test)\n",
    "print(f\"mean squared error: {mean_squared_error(y_test, y_pred):.2f}\")"
   ]
  },
  {
   "cell_type": "markdown",
   "id": "ranking-fellow",
   "metadata": {},
   "source": [
    "- Although kernelpca provided or reformed the components as close to the original ones, the svr with the kernelpca doesnot provide with acceptable results\n",
    "- PCA, whereas provides us with almost as good as the score we got previously"
   ]
  },
  {
   "cell_type": "code",
   "execution_count": 84,
   "id": "conventional-advancement",
   "metadata": {
    "ExecuteTime": {
     "end_time": "2021-03-10T13:43:54.138770Z",
     "start_time": "2021-03-10T13:43:54.061781Z"
    }
   },
   "outputs": [
    {
     "name": "stdout",
     "output_type": "stream",
     "text": [
      "Training score: 0.611533638668573\n",
      "mean squared error: 133.84\n",
      "Testing Score: -0.911196818102787\n"
     ]
    }
   ],
   "source": [
    "pipe = Pipeline([\n",
    "    ('scaler',MinMaxScaler()),\n",
    "    ('pca', PCA(n_components=0.95)),\n",
    "    ('svr', SVR(kernel='rbf', C=100,gamma=10))\n",
    "])\n",
    "pipe.fit(X_train,y_train)\n",
    "print(f\"Training score: {pipe.score(X_train,y_train)}\")\n",
    "y_pred = pipe.predict(X_test)\n",
    "print(f\"mean squared error: {mean_squared_error(y_test, y_pred):.2f}\")\n",
    "print(f\"Testing Score: {pipe.score(X_test,y_test)}\")"
   ]
  },
  {
   "cell_type": "code",
   "execution_count": null,
   "id": "located-details",
   "metadata": {},
   "outputs": [],
   "source": []
  },
  {
   "cell_type": "markdown",
   "id": "manual-words",
   "metadata": {},
   "source": [
    "## MDS, ISOMAP, t-sne"
   ]
  },
  {
   "cell_type": "code",
   "execution_count": 85,
   "id": "paperback-tracy",
   "metadata": {
    "ExecuteTime": {
     "end_time": "2021-03-10T13:43:58.402762Z",
     "start_time": "2021-03-10T13:43:56.928770Z"
    }
   },
   "outputs": [],
   "source": [
    "from sklearn.manifold import MDS, Isomap,TSNE"
   ]
  },
  {
   "cell_type": "code",
   "execution_count": 86,
   "id": "european-tobago",
   "metadata": {
    "ExecuteTime": {
     "end_time": "2021-03-10T13:44:18.433762Z",
     "start_time": "2021-03-10T13:43:59.076767Z"
    }
   },
   "outputs": [],
   "source": [
    "mds=MDS(n_components=2)\n",
    "X_red_mds=mds.fit_transform(X)\n",
    "isomap=Isomap(n_components=2)\n",
    "X_red_iso=isomap.fit_transform(X)\n",
    "tsne=TSNE(n_components=2)\n",
    "X_red_tsne=tsne.fit_transform(X)\n"
   ]
  },
  {
   "cell_type": "code",
   "execution_count": 87,
   "id": "outdoor-bibliography",
   "metadata": {
    "ExecuteTime": {
     "end_time": "2021-03-10T13:44:21.075766Z",
     "start_time": "2021-03-10T13:44:20.153775Z"
    }
   },
   "outputs": [
    {
     "data": {
      "image/png": "[encoded data removed]",
      "text/plain": [
       "<Figure size 1152x288 with 4 Axes>"
      ]
     },
     "metadata": {
      "needs_background": "light"
     },
     "output_type": "display_data"
    }
   ],
   "source": [
    "plt.figure(figsize=(16,4))\n",
    "title=[\"MDS\",\"ISOMAP\",\"t-sne\",'pca']\n",
    "\n",
    "for  subplot,title,X_red in zip((141,142,143,144),title,\n",
    "                                (X_red_mds,X_red_iso,X_red_tsne, X_pca)):    \n",
    "    plt.subplot(subplot)\n",
    "    plt.title(title)\n",
    "    plt.scatter(X_red[:,0],X_red[:,1],c=y,cmap=plt.cm.hot)\n",
    "    plt.grid(True)\n",
    "    "
   ]
  },
  {
   "cell_type": "markdown",
   "id": "supposed-gothic",
   "metadata": {},
   "source": [
    "- If we check the plot of two components from different plots, we can see that from isomap that the points can have four clusters or from tsne it can have many small clusters, which can be useful to do the semisupervised and unsupervised training "
   ]
  },
  {
   "cell_type": "markdown",
   "id": "arabic-theology",
   "metadata": {},
   "source": [
    "# Unsupervised and SemiSupervised"
   ]
  },
  {
   "cell_type": "code",
   "execution_count": 88,
   "id": "grave-tractor",
   "metadata": {
    "ExecuteTime": {
     "end_time": "2021-03-10T13:44:38.723832Z",
     "start_time": "2021-03-10T13:44:38.685835Z"
    }
   },
   "outputs": [
    {
     "data": {
      "text/html": [
       "<div>\n",
       "<style scoped>\n",
       "    .dataframe tbody tr th:only-of-type {\n",
       "        vertical-align: middle;\n",
       "    }\n",
       "\n",
       "    .dataframe tbody tr th {\n",
       "        vertical-align: top;\n",
       "    }\n",
       "\n",
       "    .dataframe thead th {\n",
       "        text-align: right;\n",
       "    }\n",
       "</style>\n",
       "<table border=\"1\" class=\"dataframe\">\n",
       "  <thead>\n",
       "    <tr style=\"text-align: right;\">\n",
       "      <th></th>\n",
       "      <th>CRIM</th>\n",
       "      <th>ZN</th>\n",
       "      <th>INDUS</th>\n",
       "      <th>CHAS</th>\n",
       "      <th>NOX</th>\n",
       "      <th>RM</th>\n",
       "      <th>AGE</th>\n",
       "      <th>DIS</th>\n",
       "      <th>RAD</th>\n",
       "      <th>TAX</th>\n",
       "      <th>PTRATIO</th>\n",
       "      <th>B</th>\n",
       "      <th>LSTAT</th>\n",
       "      <th>Price</th>\n",
       "    </tr>\n",
       "  </thead>\n",
       "  <tbody>\n",
       "    <tr>\n",
       "      <th>0</th>\n",
       "      <td>0.00632</td>\n",
       "      <td>18.0</td>\n",
       "      <td>2.31</td>\n",
       "      <td>0.0</td>\n",
       "      <td>0.538</td>\n",
       "      <td>6.575</td>\n",
       "      <td>65.2</td>\n",
       "      <td>4.0900</td>\n",
       "      <td>1.0</td>\n",
       "      <td>296.0</td>\n",
       "      <td>15.3</td>\n",
       "      <td>396.90</td>\n",
       "      <td>4.98</td>\n",
       "      <td>24.0</td>\n",
       "    </tr>\n",
       "    <tr>\n",
       "      <th>1</th>\n",
       "      <td>0.02731</td>\n",
       "      <td>0.0</td>\n",
       "      <td>7.07</td>\n",
       "      <td>0.0</td>\n",
       "      <td>0.469</td>\n",
       "      <td>6.421</td>\n",
       "      <td>78.9</td>\n",
       "      <td>4.9671</td>\n",
       "      <td>2.0</td>\n",
       "      <td>242.0</td>\n",
       "      <td>17.8</td>\n",
       "      <td>396.90</td>\n",
       "      <td>9.14</td>\n",
       "      <td>21.6</td>\n",
       "    </tr>\n",
       "    <tr>\n",
       "      <th>2</th>\n",
       "      <td>0.02729</td>\n",
       "      <td>0.0</td>\n",
       "      <td>7.07</td>\n",
       "      <td>0.0</td>\n",
       "      <td>0.469</td>\n",
       "      <td>7.185</td>\n",
       "      <td>61.1</td>\n",
       "      <td>4.9671</td>\n",
       "      <td>2.0</td>\n",
       "      <td>242.0</td>\n",
       "      <td>17.8</td>\n",
       "      <td>392.83</td>\n",
       "      <td>4.03</td>\n",
       "      <td>34.7</td>\n",
       "    </tr>\n",
       "    <tr>\n",
       "      <th>3</th>\n",
       "      <td>0.03237</td>\n",
       "      <td>0.0</td>\n",
       "      <td>2.18</td>\n",
       "      <td>0.0</td>\n",
       "      <td>0.458</td>\n",
       "      <td>6.998</td>\n",
       "      <td>45.8</td>\n",
       "      <td>6.0622</td>\n",
       "      <td>3.0</td>\n",
       "      <td>222.0</td>\n",
       "      <td>18.7</td>\n",
       "      <td>394.63</td>\n",
       "      <td>2.94</td>\n",
       "      <td>33.4</td>\n",
       "    </tr>\n",
       "    <tr>\n",
       "      <th>4</th>\n",
       "      <td>0.06905</td>\n",
       "      <td>0.0</td>\n",
       "      <td>2.18</td>\n",
       "      <td>0.0</td>\n",
       "      <td>0.458</td>\n",
       "      <td>7.147</td>\n",
       "      <td>54.2</td>\n",
       "      <td>6.0622</td>\n",
       "      <td>3.0</td>\n",
       "      <td>222.0</td>\n",
       "      <td>18.7</td>\n",
       "      <td>396.90</td>\n",
       "      <td>5.33</td>\n",
       "      <td>36.2</td>\n",
       "    </tr>\n",
       "  </tbody>\n",
       "</table>\n",
       "</div>"
      ],
      "text/plain": [
       "      CRIM    ZN  INDUS  CHAS    NOX     RM   AGE     DIS  RAD    TAX  \\\n",
       "0  0.00632  18.0   2.31   0.0  0.538  6.575  65.2  4.0900  1.0  296.0   \n",
       "1  0.02731   0.0   7.07   0.0  0.469  6.421  78.9  4.9671  2.0  242.0   \n",
       "2  0.02729   0.0   7.07   0.0  0.469  7.185  61.1  4.9671  2.0  242.0   \n",
       "3  0.03237   0.0   2.18   0.0  0.458  6.998  45.8  6.0622  3.0  222.0   \n",
       "4  0.06905   0.0   2.18   0.0  0.458  7.147  54.2  6.0622  3.0  222.0   \n",
       "\n",
       "   PTRATIO       B  LSTAT  Price  \n",
       "0     15.3  396.90   4.98   24.0  \n",
       "1     17.8  396.90   9.14   21.6  \n",
       "2     17.8  392.83   4.03   34.7  \n",
       "3     18.7  394.63   2.94   33.4  \n",
       "4     18.7  396.90   5.33   36.2  "
      ]
     },
     "execution_count": 88,
     "metadata": {},
     "output_type": "execute_result"
    }
   ],
   "source": [
    "df.count()\n",
    "df1 = df.copy()\n",
    "df1.head()"
   ]
  },
  {
   "cell_type": "code",
   "execution_count": 89,
   "id": "posted-cloud",
   "metadata": {
    "ExecuteTime": {
     "end_time": "2021-03-10T13:44:40.275835Z",
     "start_time": "2021-03-10T13:44:39.596838Z"
    }
   },
   "outputs": [
    {
     "data": {
      "image/png": "[encoded data removed]",
      "text/plain": [
       "<Figure size 432x288 with 4 Axes>"
      ]
     },
     "metadata": {
      "needs_background": "light"
     },
     "output_type": "display_data"
    }
   ],
   "source": [
    "\n",
    "fig, ((ax1, ax2), (ax3, ax4)) = plt.subplots(2, 2)\n",
    "#fig.suptitle('Vertically stacked subplots')\n",
    "ax1.hist(df.Price,bins=3);\n",
    "ax2.hist(df.Price,bins=5)\n",
    "ax3.hist(df.Price,bins=7);\n",
    "ax4.hist(df.Price,bins=9);\n"
   ]
  },
  {
   "cell_type": "markdown",
   "id": "resident-montreal",
   "metadata": {},
   "source": [
    "- So dividing 3 will have one really small dataset \n",
    "- Even dividing with 5 most of the dataset falls in the middle so may be dviding the data into more bins of equal lenght may be better in this case"
   ]
  },
  {
   "cell_type": "code",
   "execution_count": 90,
   "id": "instant-hughes",
   "metadata": {
    "ExecuteTime": {
     "end_time": "2021-03-10T13:44:41.739828Z",
     "start_time": "2021-03-10T13:44:41.680835Z"
    }
   },
   "outputs": [],
   "source": [
    "df1['price_label']=pd.qcut(df.Price,10,labels=range(0,10))\n"
   ]
  },
  {
   "cell_type": "code",
   "execution_count": 91,
   "id": "sound-volunteer",
   "metadata": {
    "ExecuteTime": {
     "end_time": "2021-03-10T13:44:42.781828Z",
     "start_time": "2021-03-10T13:44:42.566832Z"
    }
   },
   "outputs": [
    {
     "name": "stdout",
     "output_type": "stream",
     "text": [
      "(4.999, 12.75]    51\n",
      "(12.75, 15.3]     51\n",
      "(15.3, 18.2]      51\n",
      "(18.2, 19.7]      50\n",
      "(19.7, 21.2]      53\n",
      "(21.2, 22.7]      48\n",
      "(22.7, 24.15]     50\n",
      "(24.15, 28.2]     51\n",
      "(28.2, 34.8]      50\n",
      "(34.8, 50.0]      51\n",
      "Name: Price, dtype: int64\n"
     ]
    }
   ],
   "source": [
    "values = pd.qcut(df.Price,10).value_counts(sort=False)\n",
    "print(values)"
   ]
  },
  {
   "cell_type": "markdown",
   "id": "wooden-cancer",
   "metadata": {},
   "source": [
    "- Here we divided the dataset into more or less into same number of bins \n",
    "- The reason to choose 10 is due to the difference in the maximum and minimum price in the dataset and since most of the dataset fall in the middle region, so may be it is better to have similar bin differences.\n",
    "- When unseen data falls onto a particular label, it would be more practical to say the price falling in smaller range than a bigger range."
   ]
  },
  {
   "cell_type": "code",
   "execution_count": 92,
   "id": "egyptian-artwork",
   "metadata": {
    "ExecuteTime": {
     "end_time": "2021-03-10T13:44:43.670829Z",
     "start_time": "2021-03-10T13:44:43.660839Z"
    }
   },
   "outputs": [
    {
     "data": {
      "text/plain": [
       "0    51\n",
       "1    51\n",
       "2    51\n",
       "3    50\n",
       "4    53\n",
       "5    48\n",
       "6    50\n",
       "7    51\n",
       "8    50\n",
       "9    51\n",
       "Name: price_label, dtype: int64"
      ]
     },
     "execution_count": 92,
     "metadata": {},
     "output_type": "execute_result"
    }
   ],
   "source": [
    "df1.price_label.value_counts(sort=False)"
   ]
  },
  {
   "cell_type": "code",
   "execution_count": 93,
   "id": "unusual-austin",
   "metadata": {
    "ExecuteTime": {
     "end_time": "2021-03-10T13:44:44.621825Z",
     "start_time": "2021-03-10T13:44:44.577826Z"
    }
   },
   "outputs": [
    {
     "data": {
      "text/html": [
       "<div>\n",
       "<style scoped>\n",
       "    .dataframe tbody tr th:only-of-type {\n",
       "        vertical-align: middle;\n",
       "    }\n",
       "\n",
       "    .dataframe tbody tr th {\n",
       "        vertical-align: top;\n",
       "    }\n",
       "\n",
       "    .dataframe thead th {\n",
       "        text-align: right;\n",
       "    }\n",
       "</style>\n",
       "<table border=\"1\" class=\"dataframe\">\n",
       "  <thead>\n",
       "    <tr style=\"text-align: right;\">\n",
       "      <th></th>\n",
       "      <th>CRIM</th>\n",
       "      <th>ZN</th>\n",
       "      <th>INDUS</th>\n",
       "      <th>CHAS</th>\n",
       "      <th>NOX</th>\n",
       "      <th>RM</th>\n",
       "      <th>AGE</th>\n",
       "      <th>DIS</th>\n",
       "      <th>RAD</th>\n",
       "      <th>TAX</th>\n",
       "      <th>PTRATIO</th>\n",
       "      <th>B</th>\n",
       "      <th>LSTAT</th>\n",
       "      <th>Price</th>\n",
       "      <th>price_label</th>\n",
       "    </tr>\n",
       "  </thead>\n",
       "  <tbody>\n",
       "    <tr>\n",
       "      <th>0</th>\n",
       "      <td>0.00632</td>\n",
       "      <td>18.0</td>\n",
       "      <td>2.31</td>\n",
       "      <td>0.0</td>\n",
       "      <td>0.538</td>\n",
       "      <td>6.575</td>\n",
       "      <td>65.2</td>\n",
       "      <td>4.0900</td>\n",
       "      <td>1.0</td>\n",
       "      <td>296.0</td>\n",
       "      <td>15.3</td>\n",
       "      <td>396.90</td>\n",
       "      <td>4.98</td>\n",
       "      <td>24.0</td>\n",
       "      <td>6</td>\n",
       "    </tr>\n",
       "    <tr>\n",
       "      <th>1</th>\n",
       "      <td>0.02731</td>\n",
       "      <td>0.0</td>\n",
       "      <td>7.07</td>\n",
       "      <td>0.0</td>\n",
       "      <td>0.469</td>\n",
       "      <td>6.421</td>\n",
       "      <td>78.9</td>\n",
       "      <td>4.9671</td>\n",
       "      <td>2.0</td>\n",
       "      <td>242.0</td>\n",
       "      <td>17.8</td>\n",
       "      <td>396.90</td>\n",
       "      <td>9.14</td>\n",
       "      <td>21.6</td>\n",
       "      <td>5</td>\n",
       "    </tr>\n",
       "    <tr>\n",
       "      <th>2</th>\n",
       "      <td>0.02729</td>\n",
       "      <td>0.0</td>\n",
       "      <td>7.07</td>\n",
       "      <td>0.0</td>\n",
       "      <td>0.469</td>\n",
       "      <td>7.185</td>\n",
       "      <td>61.1</td>\n",
       "      <td>4.9671</td>\n",
       "      <td>2.0</td>\n",
       "      <td>242.0</td>\n",
       "      <td>17.8</td>\n",
       "      <td>392.83</td>\n",
       "      <td>4.03</td>\n",
       "      <td>34.7</td>\n",
       "      <td>8</td>\n",
       "    </tr>\n",
       "    <tr>\n",
       "      <th>3</th>\n",
       "      <td>0.03237</td>\n",
       "      <td>0.0</td>\n",
       "      <td>2.18</td>\n",
       "      <td>0.0</td>\n",
       "      <td>0.458</td>\n",
       "      <td>6.998</td>\n",
       "      <td>45.8</td>\n",
       "      <td>6.0622</td>\n",
       "      <td>3.0</td>\n",
       "      <td>222.0</td>\n",
       "      <td>18.7</td>\n",
       "      <td>394.63</td>\n",
       "      <td>2.94</td>\n",
       "      <td>33.4</td>\n",
       "      <td>8</td>\n",
       "    </tr>\n",
       "    <tr>\n",
       "      <th>4</th>\n",
       "      <td>0.06905</td>\n",
       "      <td>0.0</td>\n",
       "      <td>2.18</td>\n",
       "      <td>0.0</td>\n",
       "      <td>0.458</td>\n",
       "      <td>7.147</td>\n",
       "      <td>54.2</td>\n",
       "      <td>6.0622</td>\n",
       "      <td>3.0</td>\n",
       "      <td>222.0</td>\n",
       "      <td>18.7</td>\n",
       "      <td>396.90</td>\n",
       "      <td>5.33</td>\n",
       "      <td>36.2</td>\n",
       "      <td>9</td>\n",
       "    </tr>\n",
       "  </tbody>\n",
       "</table>\n",
       "</div>"
      ],
      "text/plain": [
       "      CRIM    ZN  INDUS  CHAS    NOX     RM   AGE     DIS  RAD    TAX  \\\n",
       "0  0.00632  18.0   2.31   0.0  0.538  6.575  65.2  4.0900  1.0  296.0   \n",
       "1  0.02731   0.0   7.07   0.0  0.469  6.421  78.9  4.9671  2.0  242.0   \n",
       "2  0.02729   0.0   7.07   0.0  0.469  7.185  61.1  4.9671  2.0  242.0   \n",
       "3  0.03237   0.0   2.18   0.0  0.458  6.998  45.8  6.0622  3.0  222.0   \n",
       "4  0.06905   0.0   2.18   0.0  0.458  7.147  54.2  6.0622  3.0  222.0   \n",
       "\n",
       "   PTRATIO       B  LSTAT  Price price_label  \n",
       "0     15.3  396.90   4.98   24.0           6  \n",
       "1     17.8  396.90   9.14   21.6           5  \n",
       "2     17.8  392.83   4.03   34.7           8  \n",
       "3     18.7  394.63   2.94   33.4           8  \n",
       "4     18.7  396.90   5.33   36.2           9  "
      ]
     },
     "execution_count": 93,
     "metadata": {},
     "output_type": "execute_result"
    }
   ],
   "source": [
    "df1.head()"
   ]
  },
  {
   "cell_type": "markdown",
   "id": "pursuant-reunion",
   "metadata": {
    "ExecuteTime": {
     "end_time": "2021-02-19T14:21:22.151297Z",
     "start_time": "2021-02-19T14:21:22.138288Z"
    }
   },
   "source": [
    "## KMEANS"
   ]
  },
  {
   "cell_type": "code",
   "execution_count": 95,
   "id": "agreed-renaissance",
   "metadata": {
    "ExecuteTime": {
     "end_time": "2021-03-10T13:44:57.559822Z",
     "start_time": "2021-03-10T13:44:54.989828Z"
    }
   },
   "outputs": [],
   "source": [
    "from sklearn.cluster import KMeans"
   ]
  },
  {
   "cell_type": "markdown",
   "id": "unable-episode",
   "metadata": {},
   "source": [
    "### Stratified split"
   ]
  },
  {
   "cell_type": "code",
   "execution_count": 96,
   "id": "vertical-dairy",
   "metadata": {
    "ExecuteTime": {
     "end_time": "2021-03-10T13:44:58.725830Z",
     "start_time": "2021-03-10T13:44:58.718829Z"
    }
   },
   "outputs": [],
   "source": [
    "from sklearn.model_selection import StratifiedShuffleSplit"
   ]
  },
  {
   "cell_type": "code",
   "execution_count": 139,
   "id": "indie-secret",
   "metadata": {
    "ExecuteTime": {
     "end_time": "2021-03-10T13:53:38.292521Z",
     "start_time": "2021-03-10T13:53:38.272511Z"
    }
   },
   "outputs": [],
   "source": [
    "X=df1.iloc[:,:-1]\n",
    "y= df1['price_label']\n"
   ]
  },
  {
   "cell_type": "code",
   "execution_count": 98,
   "id": "offshore-account",
   "metadata": {
    "ExecuteTime": {
     "end_time": "2021-03-10T13:45:00.535823Z",
     "start_time": "2021-03-10T13:45:00.412828Z"
    }
   },
   "outputs": [],
   "source": [
    "X_train,X_test,y_train,y_test = train_test_split(X,y,stratify=y,random_state=42)"
   ]
  },
  {
   "cell_type": "code",
   "execution_count": 99,
   "id": "accredited-house",
   "metadata": {
    "ExecuteTime": {
     "end_time": "2021-03-10T13:45:01.393834Z",
     "start_time": "2021-03-10T13:45:01.381829Z"
    }
   },
   "outputs": [
    {
     "name": "stdout",
     "output_type": "stream",
     "text": [
      "(379, 14)\n",
      "(127, 14)\n"
     ]
    }
   ],
   "source": [
    "print(X_train.shape)\n",
    "print(X_test.shape)"
   ]
  },
  {
   "cell_type": "markdown",
   "id": "decent-capacity",
   "metadata": {},
   "source": [
    "### Finidng best K with silhouette score"
   ]
  },
  {
   "cell_type": "code",
   "execution_count": 100,
   "id": "temporal-citizenship",
   "metadata": {
    "ExecuteTime": {
     "end_time": "2021-03-10T13:45:14.994821Z",
     "start_time": "2021-03-10T13:45:02.908843Z"
    }
   },
   "outputs": [],
   "source": [
    "from sklearn.metrics import silhouette_score\n",
    "scores=[]\n",
    "for i in range(2,50):\n",
    "    kmeans=KMeans(n_clusters=i,random_state=42)\n",
    "    kmeans.fit(X_train)\n",
    "    scores.append(silhouette_score(X_train,kmeans.labels_))"
   ]
  },
  {
   "cell_type": "code",
   "execution_count": 101,
   "id": "transsexual-addiction",
   "metadata": {
    "ExecuteTime": {
     "end_time": "2021-03-10T13:45:15.815831Z",
     "start_time": "2021-03-10T13:45:15.803832Z"
    }
   },
   "outputs": [
    {
     "name": "stdout",
     "output_type": "stream",
     "text": [
      "3\n"
     ]
    },
    {
     "data": {
      "text/plain": [
       "48"
      ]
     },
     "execution_count": 101,
     "metadata": {},
     "output_type": "execute_result"
    }
   ],
   "source": [
    "d=np.argmax(scores)+2\n",
    "print(d)\n",
    "len(scores)"
   ]
  },
  {
   "cell_type": "code",
   "execution_count": 102,
   "id": "individual-orchestra",
   "metadata": {
    "ExecuteTime": {
     "end_time": "2021-03-10T13:45:17.145825Z",
     "start_time": "2021-03-10T13:45:16.863831Z"
    }
   },
   "outputs": [
    {
     "data": {
      "text/plain": [
       "[<matplotlib.lines.Line2D at 0x248d5403630>]"
      ]
     },
     "execution_count": 102,
     "metadata": {},
     "output_type": "execute_result"
    },
    {
     "data": {
      "image/png": "[encoded data removed]",
      "text/plain": [
       "<Figure size 432x288 with 1 Axes>"
      ]
     },
     "metadata": {
      "needs_background": "light"
     },
     "output_type": "display_data"
    }
   ],
   "source": [
    "plt.figure(figsize=(6,4))\n",
    "plt.plot(range(2,50),scores)\n",
    "plt.xlabel(\"n_clusters\")\n",
    "plt.ylabel(\"silhoutte score\")\n",
    "plt.plot(d,max(scores),'ro')"
   ]
  },
  {
   "cell_type": "markdown",
   "id": "restricted-yeast",
   "metadata": {},
   "source": [
    "- With the help of silhouetter score, we can see that the the score is best at k =3"
   ]
  },
  {
   "cell_type": "code",
   "execution_count": 103,
   "id": "precise-indian",
   "metadata": {
    "ExecuteTime": {
     "end_time": "2021-03-10T13:45:31.271822Z",
     "start_time": "2021-03-10T13:45:19.748837Z"
    }
   },
   "outputs": [],
   "source": [
    "scores=[]\n",
    "for i in range(2,50):\n",
    "    kmeans=KMeans(n_clusters=i,random_state=42)\n",
    "    kmeans.fit(X_pca)\n",
    "    scores.append(silhouette_score(X_pca,kmeans.labels_))"
   ]
  },
  {
   "cell_type": "code",
   "execution_count": 104,
   "id": "public-mortgage",
   "metadata": {
    "ExecuteTime": {
     "end_time": "2021-03-10T13:45:32.153826Z",
     "start_time": "2021-03-10T13:45:32.062827Z"
    }
   },
   "outputs": [
    {
     "name": "stdout",
     "output_type": "stream",
     "text": [
      "Best silhoutte score 0.7208236920928593\n"
     ]
    }
   ],
   "source": [
    "kmeans=KMeans(n_clusters=3,random_state=42)\n",
    "kmeans.fit(X_train)\n",
    "print('Best silhoutte score',silhouette_score(X_train,kmeans.labels_))"
   ]
  },
  {
   "cell_type": "markdown",
   "id": "rubber-consent",
   "metadata": {
    "ExecuteTime": {
     "end_time": "2021-02-19T20:58:38.469216Z",
     "start_time": "2021-02-19T20:58:38.192227Z"
    }
   },
   "source": [
    "### Model Inertia"
   ]
  },
  {
   "cell_type": "code",
   "execution_count": 105,
   "id": "three-blind",
   "metadata": {
    "ExecuteTime": {
     "end_time": "2021-03-10T13:45:49.191823Z",
     "start_time": "2021-03-10T13:45:37.799828Z"
    }
   },
   "outputs": [],
   "source": [
    "inertia=[]\n",
    "for i in range(2,50):\n",
    "    kmeans=KMeans(n_clusters=i,random_state=42)\n",
    "    kmeans.fit(X_train)\n",
    "    inertia.append(kmeans.inertia_)"
   ]
  },
  {
   "cell_type": "code",
   "execution_count": 106,
   "id": "retained-entity",
   "metadata": {
    "ExecuteTime": {
     "end_time": "2021-03-10T13:45:50.241825Z",
     "start_time": "2021-03-10T13:45:49.958830Z"
    }
   },
   "outputs": [
    {
     "data": {
      "text/plain": [
       "Text(0, 0.5, 'inertia')"
      ]
     },
     "execution_count": 106,
     "metadata": {},
     "output_type": "execute_result"
    },
    {
     "data": {
      "image/png": "[encoded data removed]",
      "text/plain": [
       "<Figure size 432x288 with 1 Axes>"
      ]
     },
     "metadata": {
      "needs_background": "light"
     },
     "output_type": "display_data"
    }
   ],
   "source": [
    "\n",
    "plt.figure(figsize=(6,4))\n",
    "plt.plot(range(2,50),inertia)\n",
    "plt.xlabel(\"n_clusters\")\n",
    "plt.ylabel(\"inertia\")\n"
   ]
  },
  {
   "cell_type": "markdown",
   "id": "irish-illustration",
   "metadata": {},
   "source": [
    "- As we know, the model inertia decreases as the cluster increases, so we can say that at around 10 clusters the inertia has the best score because it started its curve and it is getting linearly downwards after that"
   ]
  },
  {
   "cell_type": "markdown",
   "id": "contrary-cambodia",
   "metadata": {},
   "source": [
    "### USing Grid search to find best K value"
   ]
  },
  {
   "cell_type": "code",
   "execution_count": 107,
   "id": "dutch-assault",
   "metadata": {
    "ExecuteTime": {
     "end_time": "2021-03-10T13:45:59.303829Z",
     "start_time": "2021-03-10T13:45:59.288836Z"
    }
   },
   "outputs": [],
   "source": [
    "from sklearn.ensemble import RandomForestClassifier"
   ]
  },
  {
   "cell_type": "code",
   "execution_count": 108,
   "id": "entire-ready",
   "metadata": {
    "ExecuteTime": {
     "end_time": "2021-03-10T13:46:01.571828Z",
     "start_time": "2021-03-10T13:46:00.331828Z"
    }
   },
   "outputs": [
    {
     "data": {
      "text/plain": [
       "Pipeline(steps=[('kmeans', KMeans(n_clusters=3, random_state=42)),\n",
       "                ('randomforest',\n",
       "                 RandomForestClassifier(max_depth=6, max_leaf_nodes=7,\n",
       "                                        n_estimators=500, random_state=42))])"
      ]
     },
     "execution_count": 108,
     "metadata": {},
     "output_type": "execute_result"
    }
   ],
   "source": [
    "pipe=Pipeline([\n",
    "    (\"kmeans\",KMeans(n_clusters=3,random_state=42)),\n",
    "    (\"randomforest\",RandomForestClassifier(n_estimators=500,max_depth=6,max_leaf_nodes=7,random_state=42))\n",
    "])\n",
    "pipe.fit(X_train,y_train)"
   ]
  },
  {
   "cell_type": "code",
   "execution_count": 109,
   "id": "seeing-polyester",
   "metadata": {
    "ExecuteTime": {
     "end_time": "2021-03-10T13:46:02.619824Z",
     "start_time": "2021-03-10T13:46:02.480838Z"
    }
   },
   "outputs": [
    {
     "data": {
      "text/plain": [
       "0.2440944881889764"
      ]
     },
     "execution_count": 109,
     "metadata": {},
     "output_type": "execute_result"
    }
   ],
   "source": [
    "pipe.score(X_test,y_test)"
   ]
  },
  {
   "cell_type": "code",
   "execution_count": 110,
   "id": "understanding-gibraltar",
   "metadata": {
    "ExecuteTime": {
     "end_time": "2021-03-10T13:47:36.266863Z",
     "start_time": "2021-03-10T13:46:03.482831Z"
    }
   },
   "outputs": [
    {
     "name": "stdout",
     "output_type": "stream",
     "text": [
      "Fitting 3 folds for each of 48 candidates, totalling 144 fits\n"
     ]
    },
    {
     "name": "stderr",
     "output_type": "stream",
     "text": [
      "[Parallel(n_jobs=-1)]: Using backend LokyBackend with 4 concurrent workers.\n",
      "[Parallel(n_jobs=-1)]: Done  33 tasks      | elapsed:   25.0s\n",
      "[Parallel(n_jobs=-1)]: Done 144 out of 144 | elapsed:  1.5min finished\n"
     ]
    },
    {
     "data": {
      "text/plain": [
       "0.3138149397991918"
      ]
     },
     "execution_count": 110,
     "metadata": {},
     "output_type": "execute_result"
    }
   ],
   "source": [
    "parm={\"kmeans__n_clusters\":range(2,50)}\n",
    "grid=GridSearchCV(pipe,param_grid=parm,cv=3,verbose=2,n_jobs=-1)\n",
    "grid.fit(X_train,y_train)\n",
    "grid.best_score_\n"
   ]
  },
  {
   "cell_type": "code",
   "execution_count": 111,
   "id": "infrared-partner",
   "metadata": {
    "ExecuteTime": {
     "end_time": "2021-03-10T13:47:37.138863Z",
     "start_time": "2021-03-10T13:47:37.031867Z"
    }
   },
   "outputs": [
    {
     "data": {
      "text/plain": [
       "0.2440944881889764"
      ]
     },
     "execution_count": 111,
     "metadata": {},
     "output_type": "execute_result"
    }
   ],
   "source": [
    "grid.score(X_test,y_test)"
   ]
  },
  {
   "cell_type": "markdown",
   "id": "aggregate-minutes",
   "metadata": {},
   "source": [
    "## Semi sUpervised"
   ]
  },
  {
   "cell_type": "code",
   "execution_count": 112,
   "id": "explicit-binding",
   "metadata": {
    "ExecuteTime": {
     "end_time": "2021-03-10T13:47:39.715022Z",
     "start_time": "2021-03-10T13:47:39.701017Z"
    }
   },
   "outputs": [],
   "source": [
    "labeled_data = 100\n"
   ]
  },
  {
   "cell_type": "code",
   "execution_count": 113,
   "id": "above-portal",
   "metadata": {
    "ExecuteTime": {
     "end_time": "2021-03-10T13:47:40.824905Z",
     "start_time": "2021-03-10T13:47:40.684906Z"
    }
   },
   "outputs": [],
   "source": [
    "k=10\n",
    "kmeans=KMeans(n_clusters=k, random_state=42)\n",
    "X_dist=kmeans.fit_transform(X_train) ## gives the distance between the point and the centroid\n",
    "representative_idx=np.argmin(X_dist,axis=0) ## finding the least distance\n",
    "X_rep=X_train.iloc[representative_idx] # getting the reprsentation from the index"
   ]
  },
  {
   "cell_type": "code",
   "execution_count": 114,
   "id": "nasty-enough",
   "metadata": {
    "ExecuteTime": {
     "end_time": "2021-03-10T13:47:41.802034Z",
     "start_time": "2021-03-10T13:47:41.789035Z"
    }
   },
   "outputs": [],
   "source": [
    "y_rep = y_train.iloc[representative_idx]"
   ]
  },
  {
   "cell_type": "markdown",
   "id": "occupational-charger",
   "metadata": {},
   "source": [
    "#### Logistic Regression with only the labeled data"
   ]
  },
  {
   "cell_type": "code",
   "execution_count": 115,
   "id": "innovative-income",
   "metadata": {
    "ExecuteTime": {
     "end_time": "2021-03-10T13:47:43.427706Z",
     "start_time": "2021-03-10T13:47:43.421709Z"
    }
   },
   "outputs": [],
   "source": [
    "from sklearn.linear_model import LogisticRegression"
   ]
  },
  {
   "cell_type": "code",
   "execution_count": 116,
   "id": "interpreted-signal",
   "metadata": {
    "ExecuteTime": {
     "end_time": "2021-03-10T13:47:47.069028Z",
     "start_time": "2021-03-10T13:47:44.407542Z"
    }
   },
   "outputs": [
    {
     "name": "stderr",
     "output_type": "stream",
     "text": [
      "C:\\Users\\swos\\Anaconda3\\lib\\site-packages\\sklearn\\linear_model\\_logistic.py:764: ConvergenceWarning: lbfgs failed to converge (status=1):\n",
      "STOP: TOTAL NO. of ITERATIONS REACHED LIMIT.\n",
      "\n",
      "Increase the number of iterations (max_iter) or scale the data as shown in:\n",
      "    https://scikit-learn.org/stable/modules/preprocessing.html\n",
      "Please also refer to the documentation for alternative solver options:\n",
      "    https://scikit-learn.org/stable/modules/linear_model.html#logistic-regression\n",
      "  extra_warning_msg=_LOGISTIC_SOLVER_CONVERGENCE_MSG)\n",
      "C:\\Users\\swos\\Anaconda3\\lib\\site-packages\\sklearn\\linear_model\\_logistic.py:764: ConvergenceWarning: lbfgs failed to converge (status=1):\n",
      "STOP: TOTAL NO. of ITERATIONS REACHED LIMIT.\n",
      "\n",
      "Increase the number of iterations (max_iter) or scale the data as shown in:\n",
      "    https://scikit-learn.org/stable/modules/preprocessing.html\n",
      "Please also refer to the documentation for alternative solver options:\n",
      "    https://scikit-learn.org/stable/modules/linear_model.html#logistic-regression\n",
      "  extra_warning_msg=_LOGISTIC_SOLVER_CONVERGENCE_MSG)\n",
      "C:\\Users\\swos\\Anaconda3\\lib\\site-packages\\sklearn\\linear_model\\_logistic.py:764: ConvergenceWarning: lbfgs failed to converge (status=1):\n",
      "STOP: TOTAL NO. of ITERATIONS REACHED LIMIT.\n",
      "\n",
      "Increase the number of iterations (max_iter) or scale the data as shown in:\n",
      "    https://scikit-learn.org/stable/modules/preprocessing.html\n",
      "Please also refer to the documentation for alternative solver options:\n",
      "    https://scikit-learn.org/stable/modules/linear_model.html#logistic-regression\n",
      "  extra_warning_msg=_LOGISTIC_SOLVER_CONVERGENCE_MSG)\n",
      "C:\\Users\\swos\\Anaconda3\\lib\\site-packages\\sklearn\\linear_model\\_logistic.py:764: ConvergenceWarning: lbfgs failed to converge (status=1):\n",
      "STOP: TOTAL NO. of ITERATIONS REACHED LIMIT.\n",
      "\n",
      "Increase the number of iterations (max_iter) or scale the data as shown in:\n",
      "    https://scikit-learn.org/stable/modules/preprocessing.html\n",
      "Please also refer to the documentation for alternative solver options:\n",
      "    https://scikit-learn.org/stable/modules/linear_model.html#logistic-regression\n",
      "  extra_warning_msg=_LOGISTIC_SOLVER_CONVERGENCE_MSG)\n",
      "C:\\Users\\swos\\Anaconda3\\lib\\site-packages\\sklearn\\linear_model\\_logistic.py:764: ConvergenceWarning: lbfgs failed to converge (status=1):\n",
      "STOP: TOTAL NO. of ITERATIONS REACHED LIMIT.\n",
      "\n",
      "Increase the number of iterations (max_iter) or scale the data as shown in:\n",
      "    https://scikit-learn.org/stable/modules/preprocessing.html\n",
      "Please also refer to the documentation for alternative solver options:\n",
      "    https://scikit-learn.org/stable/modules/linear_model.html#logistic-regression\n",
      "  extra_warning_msg=_LOGISTIC_SOLVER_CONVERGENCE_MSG)\n",
      "C:\\Users\\swos\\Anaconda3\\lib\\site-packages\\sklearn\\linear_model\\_logistic.py:764: ConvergenceWarning: lbfgs failed to converge (status=1):\n",
      "STOP: TOTAL NO. of ITERATIONS REACHED LIMIT.\n",
      "\n",
      "Increase the number of iterations (max_iter) or scale the data as shown in:\n",
      "    https://scikit-learn.org/stable/modules/preprocessing.html\n",
      "Please also refer to the documentation for alternative solver options:\n",
      "    https://scikit-learn.org/stable/modules/linear_model.html#logistic-regression\n",
      "  extra_warning_msg=_LOGISTIC_SOLVER_CONVERGENCE_MSG)\n"
     ]
    },
    {
     "data": {
      "text/plain": [
       "LogisticRegression(max_iter=1000, multi_class='ovr', random_state=42)"
      ]
     },
     "execution_count": 116,
     "metadata": {},
     "output_type": "execute_result"
    }
   ],
   "source": [
    "log_reg=LogisticRegression(multi_class=\"ovr\",random_state=42,max_iter=1000)\n",
    "log_reg.fit(X_train[:labeled_data],y_train[:labeled_data])"
   ]
  },
  {
   "cell_type": "code",
   "execution_count": 117,
   "id": "hollow-orange",
   "metadata": {
    "ExecuteTime": {
     "end_time": "2021-03-10T13:47:47.943032Z",
     "start_time": "2021-03-10T13:47:47.931036Z"
    }
   },
   "outputs": [
    {
     "data": {
      "text/plain": [
       "0.41732283464566927"
      ]
     },
     "execution_count": 117,
     "metadata": {},
     "output_type": "execute_result"
    }
   ],
   "source": [
    "log_reg.score(X_test,y_test)"
   ]
  },
  {
   "cell_type": "markdown",
   "id": "spoken-estate",
   "metadata": {},
   "source": [
    "#### Logistic Regression with the representative data"
   ]
  },
  {
   "cell_type": "code",
   "execution_count": 118,
   "id": "norman-insulation",
   "metadata": {
    "ExecuteTime": {
     "end_time": "2021-03-10T13:47:51.819654Z",
     "start_time": "2021-03-10T13:47:51.469666Z"
    }
   },
   "outputs": [
    {
     "data": {
      "text/plain": [
       "LogisticRegression(max_iter=1000, multi_class='ovr', random_state=42)"
      ]
     },
     "execution_count": 118,
     "metadata": {},
     "output_type": "execute_result"
    }
   ],
   "source": [
    "log_reg=LogisticRegression(multi_class=\"ovr\",max_iter=1000,random_state=42)\n",
    "log_reg.fit(X_rep,y_rep)"
   ]
  },
  {
   "cell_type": "code",
   "execution_count": 119,
   "id": "focused-conservation",
   "metadata": {
    "ExecuteTime": {
     "end_time": "2021-03-10T13:47:52.675647Z",
     "start_time": "2021-03-10T13:47:52.647646Z"
    }
   },
   "outputs": [
    {
     "data": {
      "text/plain": [
       "0.16535433070866143"
      ]
     },
     "execution_count": 119,
     "metadata": {},
     "output_type": "execute_result"
    }
   ],
   "source": [
    "log_reg.score(X_test,y_test)"
   ]
  },
  {
   "cell_type": "markdown",
   "id": "spatial-culture",
   "metadata": {},
   "source": [
    "- From the above two titles and its results, it is obvious that the representative wont do better than the labeled data only because the number of data points are less.\n",
    "- In this case, even the labeled data will do worse than taking whole of the training set because we just chose random 100 data to be labeled so the data could be misproportionally divided and hence, keeping the score as low as 30%"
   ]
  },
  {
   "cell_type": "markdown",
   "id": "religious-cowboy",
   "metadata": {},
   "source": [
    "## DBSCAN"
   ]
  },
  {
   "cell_type": "code",
   "execution_count": 120,
   "id": "protective-declaration",
   "metadata": {
    "ExecuteTime": {
     "end_time": "2021-03-10T13:47:54.605930Z",
     "start_time": "2021-03-10T13:47:54.596931Z"
    }
   },
   "outputs": [],
   "source": [
    "from sklearn.cluster import DBSCAN"
   ]
  },
  {
   "cell_type": "code",
   "execution_count": 121,
   "id": "recognized-scholarship",
   "metadata": {
    "ExecuteTime": {
     "end_time": "2021-03-10T13:47:55.688032Z",
     "start_time": "2021-03-10T13:47:55.659025Z"
    }
   },
   "outputs": [
    {
     "data": {
      "text/plain": [
       "(array([-1,  0,  1,  2,  3,  4,  5,  6,  7,  8], dtype=int64),\n",
       " array([131, 146,  59,  18,  31,  20,  11,  72,   8,  10], dtype=int64))"
      ]
     },
     "execution_count": 121,
     "metadata": {},
     "output_type": "execute_result"
    }
   ],
   "source": [
    "dbscan = DBSCAN(eps =8,min_samples =9)\n",
    "dbscan.fit(X_pca)\n",
    "np.unique(dbscan.labels_,return_counts=True)"
   ]
  },
  {
   "cell_type": "code",
   "execution_count": 122,
   "id": "regulated-burns",
   "metadata": {
    "ExecuteTime": {
     "end_time": "2021-03-10T13:47:56.525025Z",
     "start_time": "2021-03-10T13:47:56.486029Z"
    }
   },
   "outputs": [
    {
     "data": {
      "text/plain": [
       "(array([-1,  0,  1,  2,  3,  4,  5,  6,  7], dtype=int64),\n",
       " array([369,  29,   9,  13,   7,  11,   9,  52,   7], dtype=int64))"
      ]
     },
     "execution_count": 122,
     "metadata": {},
     "output_type": "execute_result"
    }
   ],
   "source": [
    "dbscan = DBSCAN(eps =12,min_samples =7)\n",
    "dbscan.fit(X)\n",
    "np.unique(dbscan.labels_,return_counts=True)"
   ]
  },
  {
   "cell_type": "markdown",
   "id": "adaptive-string",
   "metadata": {},
   "source": [
    "- Just checking how the pca will effect the on generating clusters with DBSCAN from the pca data and the non pca data and since the dataset was divided into 10 equal parts. Hence trying to make the cluster number closer to the pre defined labels."
   ]
  },
  {
   "cell_type": "markdown",
   "id": "sophisticated-documentary",
   "metadata": {},
   "source": [
    "### CLassification models with dbscan"
   ]
  },
  {
   "cell_type": "markdown",
   "id": "prepared-galaxy",
   "metadata": {},
   "source": [
    "#### Logistic Regression"
   ]
  },
  {
   "cell_type": "code",
   "execution_count": 123,
   "id": "industrial-funeral",
   "metadata": {
    "ExecuteTime": {
     "end_time": "2021-03-10T13:47:59.690595Z",
     "start_time": "2021-03-10T13:47:59.299598Z"
    }
   },
   "outputs": [
    {
     "data": {
      "text/plain": [
       "LogisticRegression(C=0.01, max_iter=1000)"
      ]
     },
     "execution_count": 123,
     "metadata": {},
     "output_type": "execute_result"
    }
   ],
   "source": [
    "log_reg=LogisticRegression(max_iter=1000,C=0.01)\n",
    "log_reg.fit(dbscan.components_,dbscan.labels_[dbscan.core_sample_indices_])"
   ]
  },
  {
   "cell_type": "code",
   "execution_count": 124,
   "id": "thermal-filing",
   "metadata": {
    "ExecuteTime": {
     "end_time": "2021-03-10T13:48:00.528594Z",
     "start_time": "2021-03-10T13:48:00.515597Z"
    }
   },
   "outputs": [
    {
     "data": {
      "text/plain": [
       "0.9885057471264368"
      ]
     },
     "execution_count": 124,
     "metadata": {},
     "output_type": "execute_result"
    }
   ],
   "source": [
    "log_reg.score(dbscan.components_,dbscan.labels_[dbscan.core_sample_indices_])"
   ]
  },
  {
   "cell_type": "markdown",
   "id": "aging-hotel",
   "metadata": {},
   "source": [
    "#### SVM"
   ]
  },
  {
   "cell_type": "code",
   "execution_count": 125,
   "id": "combined-chemical",
   "metadata": {
    "ExecuteTime": {
     "end_time": "2021-03-10T13:48:01.898882Z",
     "start_time": "2021-03-10T13:48:01.876885Z"
    }
   },
   "outputs": [
    {
     "data": {
      "text/plain": [
       "1.0"
      ]
     },
     "execution_count": 125,
     "metadata": {},
     "output_type": "execute_result"
    }
   ],
   "source": [
    "svm=SVC(C=1,gamma=100)\n",
    "svm.fit(dbscan.components_,dbscan.labels_[dbscan.core_sample_indices_])\n",
    "svm.score(dbscan.components_,dbscan.labels_[dbscan.core_sample_indices_])"
   ]
  },
  {
   "cell_type": "markdown",
   "id": "exact-internet",
   "metadata": {},
   "source": [
    "- Here we can see, by putting the same parameters from the supervised section in to the dbscan components, the models start to overfit.\n",
    "- It may be due to fewer number of data points compared to the original dataset. \n",
    "- And also lots of data are marked as outliers and most of the data falls into one category as well"
   ]
  },
  {
   "cell_type": "markdown",
   "id": "brilliant-plate",
   "metadata": {},
   "source": [
    "## Gaussian Mixture\n",
    "\n",
    "- creating sample data using gaussian mixture and checking the error with the logistic Regression"
   ]
  },
  {
   "cell_type": "code",
   "execution_count": 126,
   "id": "given-illustration",
   "metadata": {
    "ExecuteTime": {
     "end_time": "2021-03-10T13:48:10.429426Z",
     "start_time": "2021-03-10T13:48:10.187827Z"
    }
   },
   "outputs": [],
   "source": [
    "from sklearn.mixture import GaussianMixture"
   ]
  },
  {
   "cell_type": "code",
   "execution_count": 127,
   "id": "improved-metabolism",
   "metadata": {
    "ExecuteTime": {
     "end_time": "2021-03-10T13:48:18.517444Z",
     "start_time": "2021-03-10T13:48:11.270448Z"
    }
   },
   "outputs": [
    {
     "data": {
      "image/png": "[encoded data removed]",
      "text/plain": [
       "<Figure size 432x288 with 1 Axes>"
      ]
     },
     "metadata": {
      "needs_background": "light"
     },
     "output_type": "display_data"
    }
   ],
   "source": [
    "n_components = np.arange(1, 100, 5)\n",
    "models = [GaussianMixture(n, covariance_type='full', random_state=0)\n",
    "          for n in n_components]\n",
    "aics = [model.fit(X_pca).aic(X_pca) for model in models]\n",
    "plt.plot(n_components, aics);"
   ]
  },
  {
   "cell_type": "code",
   "execution_count": 128,
   "id": "governing-banner",
   "metadata": {
    "ExecuteTime": {
     "end_time": "2021-03-10T13:51:01.821447Z",
     "start_time": "2021-03-10T13:48:19.332446Z"
    }
   },
   "outputs": [],
   "source": [
    "min_bic=np.infty\n",
    "for i in range(1,50):\n",
    "    for c in (\"full\",\"tied\",\"spherical\",\"diag\"):\n",
    "        bic=GaussianMixture(n_components=i,n_init=10,covariance_type=c,\n",
    "                           random_state=42).fit(X_pca).bic(X_pca)\n",
    "        \n",
    "        if bic<min_bic:\n",
    "            min_bic=bic\n",
    "            best_k=i\n",
    "            best_cov=c"
   ]
  },
  {
   "cell_type": "code",
   "execution_count": 129,
   "id": "accurate-tulsa",
   "metadata": {
    "ExecuteTime": {
     "end_time": "2021-03-10T13:51:02.724451Z",
     "start_time": "2021-03-10T13:51:02.713444Z"
    }
   },
   "outputs": [
    {
     "name": "stdout",
     "output_type": "stream",
     "text": [
      "26 full\n"
     ]
    }
   ],
   "source": [
    "print(best_k,best_cov)"
   ]
  },
  {
   "cell_type": "code",
   "execution_count": 147,
   "id": "statistical-eagle",
   "metadata": {
    "ExecuteTime": {
     "end_time": "2021-03-10T13:56:51.504913Z",
     "start_time": "2021-03-10T13:56:51.291919Z"
    }
   },
   "outputs": [
    {
     "name": "stdout",
     "output_type": "stream",
     "text": [
      "True\n"
     ]
    }
   ],
   "source": [
    "gmm = GaussianMixture(10, covariance_type='full', random_state=0)\n",
    "gmm.fit(X)\n",
    "print(gmm.converged_)"
   ]
  },
  {
   "cell_type": "code",
   "execution_count": 148,
   "id": "logical-phoenix",
   "metadata": {
    "ExecuteTime": {
     "end_time": "2021-03-10T13:56:59.232858Z",
     "start_time": "2021-03-10T13:56:59.211854Z"
    }
   },
   "outputs": [],
   "source": [
    "X_new, y_new = gmm.sample(100)"
   ]
  },
  {
   "cell_type": "code",
   "execution_count": 132,
   "id": "administrative-bread",
   "metadata": {
    "ExecuteTime": {
     "end_time": "2021-03-10T13:51:07.902881Z",
     "start_time": "2021-03-10T13:51:07.884889Z"
    }
   },
   "outputs": [],
   "source": [
    "#X_new_recovered = pca.inverse_transform(X_new)"
   ]
  },
  {
   "cell_type": "code",
   "execution_count": 149,
   "id": "dated-tobacco",
   "metadata": {
    "ExecuteTime": {
     "end_time": "2021-03-10T13:57:05.578479Z",
     "start_time": "2021-03-10T13:57:05.563482Z"
    }
   },
   "outputs": [
    {
     "data": {
      "text/plain": [
       "(100, 14)"
      ]
     },
     "execution_count": 149,
     "metadata": {},
     "output_type": "execute_result"
    }
   ],
   "source": [
    "X_new.shape"
   ]
  },
  {
   "cell_type": "code",
   "execution_count": 150,
   "id": "focused-carrier",
   "metadata": {
    "ExecuteTime": {
     "end_time": "2021-03-10T13:57:15.726236Z",
     "start_time": "2021-03-10T13:57:15.715247Z"
    }
   },
   "outputs": [],
   "source": [
    "log_reg_new = LogisticRegression()"
   ]
  },
  {
   "cell_type": "code",
   "execution_count": 151,
   "id": "established-anchor",
   "metadata": {
    "ExecuteTime": {
     "end_time": "2021-03-10T13:57:16.870237Z",
     "start_time": "2021-03-10T13:57:16.731241Z"
    }
   },
   "outputs": [
    {
     "name": "stderr",
     "output_type": "stream",
     "text": [
      "C:\\Users\\swos\\Anaconda3\\lib\\site-packages\\sklearn\\linear_model\\_logistic.py:764: ConvergenceWarning: lbfgs failed to converge (status=1):\n",
      "STOP: TOTAL NO. of ITERATIONS REACHED LIMIT.\n",
      "\n",
      "Increase the number of iterations (max_iter) or scale the data as shown in:\n",
      "    https://scikit-learn.org/stable/modules/preprocessing.html\n",
      "Please also refer to the documentation for alternative solver options:\n",
      "    https://scikit-learn.org/stable/modules/linear_model.html#logistic-regression\n",
      "  extra_warning_msg=_LOGISTIC_SOLVER_CONVERGENCE_MSG)\n"
     ]
    },
    {
     "data": {
      "text/plain": [
       "LogisticRegression()"
      ]
     },
     "execution_count": 151,
     "metadata": {},
     "output_type": "execute_result"
    }
   ],
   "source": [
    "log_reg_new.fit(X,y)"
   ]
  },
  {
   "cell_type": "code",
   "execution_count": 152,
   "id": "sharing-greek",
   "metadata": {
    "ExecuteTime": {
     "end_time": "2021-03-10T13:57:17.997235Z",
     "start_time": "2021-03-10T13:57:17.971238Z"
    }
   },
   "outputs": [
    {
     "data": {
      "text/plain": [
       "0.5217391304347826"
      ]
     },
     "execution_count": 152,
     "metadata": {},
     "output_type": "execute_result"
    }
   ],
   "source": [
    "log_reg_new.score(X,y)"
   ]
  },
  {
   "cell_type": "code",
   "execution_count": 154,
   "id": "distinguished-bench",
   "metadata": {
    "ExecuteTime": {
     "end_time": "2021-03-10T13:57:24.916952Z",
     "start_time": "2021-03-10T13:57:24.905955Z"
    }
   },
   "outputs": [],
   "source": [
    "y_pred = log_reg_new.predict(X_new)"
   ]
  },
  {
   "cell_type": "code",
   "execution_count": 155,
   "id": "australian-anime",
   "metadata": {
    "ExecuteTime": {
     "end_time": "2021-03-10T13:57:26.233455Z",
     "start_time": "2021-03-10T13:57:26.202446Z"
    }
   },
   "outputs": [
    {
     "data": {
      "text/plain": [
       "20.7"
      ]
     },
     "execution_count": 155,
     "metadata": {},
     "output_type": "execute_result"
    }
   ],
   "source": [
    "mean_squared_error(y_new,y_pred)"
   ]
  },
  {
   "cell_type": "code",
   "execution_count": 141,
   "id": "funky-kennedy",
   "metadata": {
    "ExecuteTime": {
     "end_time": "2021-03-10T13:54:08.107131Z",
     "start_time": "2021-03-10T13:54:08.084136Z"
    }
   },
   "outputs": [
    {
     "data": {
      "text/plain": [
       "(100, 13)"
      ]
     },
     "execution_count": 141,
     "metadata": {},
     "output_type": "execute_result"
    }
   ],
   "source": []
  },
  {
   "cell_type": "code",
   "execution_count": null,
   "id": "mental-ideal",
   "metadata": {},
   "outputs": [],
   "source": []
  }
 ],
 "metadata": {
  "kernelspec": {
   "display_name": "Python 3",
   "language": "python",
   "name": "python3"
  },
  "language_info": {
   "codemirror_mode": {
    "name": "ipython",
    "version": 3
   },
   "file_extension": ".py",
   "mimetype": "text/x-python",
   "name": "python",
   "nbconvert_exporter": "python",
   "pygments_lexer": "ipython3",
   "version": "3.7.1"
  },
  "toc": {
   "base_numbering": 1,
   "nav_menu": {},
   "number_sections": true,
   "sideBar": true,
   "skip_h1_title": false,
   "title_cell": "Table of Contents",
   "title_sidebar": "Contents",
   "toc_cell": false,
   "toc_position": {},
   "toc_section_display": true,
   "toc_window_display": true
  },
  "varInspector": {
   "cols": {
    "lenName": 16,
    "lenType": 16,
    "lenVar": 40
   },
   "kernels_config": {
    "python": {
     "delete_cmd_postfix": "",
     "delete_cmd_prefix": "del ",
     "library": "var_list.py",
     "varRefreshCmd": "print(var_dic_list())"
    },
    "r": {
     "delete_cmd_postfix": ") ",
     "delete_cmd_prefix": "rm(",
     "library": "var_list.r",
     "varRefreshCmd": "cat(var_dic_list()) "
    }
   },
   "types_to_exclude": [
    "module",
    "function",
    "builtin_function_or_method",
    "instance",
    "_Feature"
   ],
   "window_display": false
  }
 },
 "nbformat": 4,
 "nbformat_minor": 5
}
